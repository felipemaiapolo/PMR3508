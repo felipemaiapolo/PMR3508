{
  "nbformat": 4,
  "nbformat_minor": 0,
  "metadata": {
    "kernelspec": {
      "display_name": "Python 3",
      "language": "python",
      "name": "python3"
    },
    "language_info": {
      "codemirror_mode": {
        "name": "ipython",
        "version": 3
      },
      "file_extension": ".py",
      "mimetype": "text/x-python",
      "name": "python",
      "nbconvert_exporter": "python",
      "pygments_lexer": "ipython3",
      "version": "3.5.2"
    },
    "colab": {
      "name": "Introdução ao Doc2Vec.ipynb",
      "provenance": [],
      "include_colab_link": true
    }
  },
  "cells": [
    {
      "cell_type": "markdown",
      "metadata": {
        "id": "view-in-github",
        "colab_type": "text"
      },
      "source": [
        "<a href=\"https://colab.research.google.com/github/felipemaiapolo/PMR3508/blob/main/Introdu%C3%A7%C3%A3o_ao_Doc2Vec.ipynb\" target=\"_parent\"><img src=\"https://colab.research.google.com/assets/colab-badge.svg\" alt=\"Open In Colab\"/></a>"
      ]
    },
    {
      "cell_type": "markdown",
      "metadata": {
        "id": "Tj8a64vS2M1p"
      },
      "source": [
        "# Introdução ao Doc2Vec\n",
        "\n",
        "O objetivo deste notebook é a introdução prática ao modelo de processamento de linguagem natural Doc2Vec. O modelo Doc2Vec é um ótimo exemplo de como as Redes Neurais Artificiais podem ser utilizadas para gerar representações estruturadas para dados, a princípio, não estruturados. Neste material passarmos, nosso foco será em mostrar como treinar e utilizar esse modelo em Python, além de dar uma intuição de como o modelo é treinado e de como é feita a inferência das representações para textos que não estão no conjunto de treinamento."
      ]
    },
    {
      "cell_type": "code",
      "metadata": {
        "id": "MDF-vg7Z2M1u"
      },
      "source": [
        "!jupyter contrib nbextension install --user"
      ],
      "execution_count": null,
      "outputs": []
    },
    {
      "cell_type": "markdown",
      "metadata": {
        "id": "YolX121z2M16"
      },
      "source": [
        "### Arrumando a casa\n"
      ]
    },
    {
      "cell_type": "markdown",
      "metadata": {
        "id": "jU8EBlbM2M17"
      },
      "source": [
        "Importando bibliotecas necessárias:"
      ]
    },
    {
      "cell_type": "code",
      "metadata": {
        "id": "6Quz7MKe2M18"
      },
      "source": [
        "#Para o uso geral\n",
        "import random\n",
        "import numpy as np\n",
        "import pandas as pd\n",
        "import copy \n",
        "import time\n",
        "from scipy.stats import uniform\n",
        "import matplotlib.pyplot as plt\n",
        "import seaborn as sns\n",
        "from sklearn.cluster import SpectralClustering\n",
        "\n",
        "#Para o processamento de textos\n",
        "from ftfy import fix_text\n",
        "import string\n",
        "import re\n",
        "from gensim.test.utils import common_texts\n",
        "from gensim.models.doc2vec import Doc2Vec, TaggedDocument\n",
        "from gensim.models.word2vec import Word2Vec"
      ],
      "execution_count": null,
      "outputs": []
    },
    {
      "cell_type": "markdown",
      "metadata": {
        "id": "VHy-SBtF2M2C"
      },
      "source": [
        "Para o treinamento do Doc2Vec, utilizaremos dados não rotulados. Ou seja, somente os textos das avaliações sobre os filmes!\n",
        "\n",
        "Vamos abrir a base de avaliações:"
      ]
    },
    {
      "cell_type": "code",
      "metadata": {
        "id": "wg6n2FvH2M2C"
      },
      "source": [
        "data=pd.read_csv(\"data/unsup.csv\")"
      ],
      "execution_count": null,
      "outputs": []
    },
    {
      "cell_type": "markdown",
      "metadata": {
        "id": "hW8Nqrlx2M2H"
      },
      "source": [
        "Visualizando base de dados:"
      ]
    },
    {
      "cell_type": "code",
      "metadata": {
        "scrolled": true,
        "id": "h3S5YxXh2M2J",
        "outputId": "59e7b462-7765-44da-a0e0-5db27d182700"
      },
      "source": [
        "data.head()"
      ],
      "execution_count": null,
      "outputs": [
        {
          "output_type": "execute_result",
          "data": {
            "text/html": [
              "<div>\n",
              "<style scoped>\n",
              "    .dataframe tbody tr th:only-of-type {\n",
              "        vertical-align: middle;\n",
              "    }\n",
              "\n",
              "    .dataframe tbody tr th {\n",
              "        vertical-align: top;\n",
              "    }\n",
              "\n",
              "    .dataframe thead th {\n",
              "        text-align: right;\n",
              "    }\n",
              "</style>\n",
              "<table border=\"1\" class=\"dataframe\">\n",
              "  <thead>\n",
              "    <tr style=\"text-align: right;\">\n",
              "      <th></th>\n",
              "      <th>review</th>\n",
              "    </tr>\n",
              "  </thead>\n",
              "  <tbody>\n",
              "    <tr>\n",
              "      <th>0</th>\n",
              "      <td>I admit, the great majority of films released ...</td>\n",
              "    </tr>\n",
              "    <tr>\n",
              "      <th>1</th>\n",
              "      <td>Take a low budget, inexperienced actors doubli...</td>\n",
              "    </tr>\n",
              "    <tr>\n",
              "      <th>2</th>\n",
              "      <td>Everybody has seen 'Back To The Future,' right...</td>\n",
              "    </tr>\n",
              "    <tr>\n",
              "      <th>3</th>\n",
              "      <td>Doris Day was an icon of beauty in singing and...</td>\n",
              "    </tr>\n",
              "    <tr>\n",
              "      <th>4</th>\n",
              "      <td>After a series of silly, fun-loving movies, 19...</td>\n",
              "    </tr>\n",
              "  </tbody>\n",
              "</table>\n",
              "</div>"
            ],
            "text/plain": [
              "                                              review\n",
              "0  I admit, the great majority of films released ...\n",
              "1  Take a low budget, inexperienced actors doubli...\n",
              "2  Everybody has seen 'Back To The Future,' right...\n",
              "3  Doris Day was an icon of beauty in singing and...\n",
              "4  After a series of silly, fun-loving movies, 19..."
            ]
          },
          "metadata": {
            "tags": []
          },
          "execution_count": 3
        }
      ]
    },
    {
      "cell_type": "markdown",
      "metadata": {
        "id": "UkX4NKOO2M2S"
      },
      "source": [
        "Vendo o shape dos dados:"
      ]
    },
    {
      "cell_type": "code",
      "metadata": {
        "id": "EIkT6Osm2M2S",
        "outputId": "5d500fca-3dba-4d82-ceff-e51743d8f4af"
      },
      "source": [
        "data.shape"
      ],
      "execution_count": null,
      "outputs": [
        {
          "output_type": "execute_result",
          "data": {
            "text/plain": [
              "(49965, 1)"
            ]
          },
          "metadata": {
            "tags": []
          },
          "execution_count": 4
        }
      ]
    },
    {
      "cell_type": "markdown",
      "metadata": {
        "id": "kUP-9l4U2M2W"
      },
      "source": [
        "Vamos checar se há textos duplicados e especular se deveriam estar duplicados ou não:"
      ]
    },
    {
      "cell_type": "code",
      "metadata": {
        "id": "WfR55ZDA2M2X",
        "outputId": "8843d6c9-4083-4c74-9c58-bc120af8d132"
      },
      "source": [
        "data.loc[data.duplicated(subset='review', keep=False)==True].sort_values(by='review').head(10)"
      ],
      "execution_count": null,
      "outputs": [
        {
          "output_type": "execute_result",
          "data": {
            "text/html": [
              "<div>\n",
              "<style scoped>\n",
              "    .dataframe tbody tr th:only-of-type {\n",
              "        vertical-align: middle;\n",
              "    }\n",
              "\n",
              "    .dataframe tbody tr th {\n",
              "        vertical-align: top;\n",
              "    }\n",
              "\n",
              "    .dataframe thead th {\n",
              "        text-align: right;\n",
              "    }\n",
              "</style>\n",
              "<table border=\"1\" class=\"dataframe\">\n",
              "  <thead>\n",
              "    <tr style=\"text-align: right;\">\n",
              "      <th></th>\n",
              "      <th>review</th>\n",
              "    </tr>\n",
              "  </thead>\n",
              "  <tbody>\n",
              "    <tr>\n",
              "      <th>46126</th>\n",
              "      <td>\"23\" is one of the best german movies for a lo...</td>\n",
              "    </tr>\n",
              "    <tr>\n",
              "      <th>46125</th>\n",
              "      <td>\"23\" is one of the best german movies for a lo...</td>\n",
              "    </tr>\n",
              "    <tr>\n",
              "      <th>4342</th>\n",
              "      <td>\"Bambi 2\" is one of those rare cases which one...</td>\n",
              "    </tr>\n",
              "    <tr>\n",
              "      <th>24761</th>\n",
              "      <td>\"Bambi 2\" is one of those rare cases which one...</td>\n",
              "    </tr>\n",
              "    <tr>\n",
              "      <th>24261</th>\n",
              "      <td>\"FrÃ¼hling auf dem Eis\" shows a large number o...</td>\n",
              "    </tr>\n",
              "    <tr>\n",
              "      <th>24246</th>\n",
              "      <td>\"FrÃ¼hling auf dem Eis\" shows a large number o...</td>\n",
              "    </tr>\n",
              "    <tr>\n",
              "      <th>3938</th>\n",
              "      <td>\"I just want to get my clothes on and get the ...</td>\n",
              "    </tr>\n",
              "    <tr>\n",
              "      <th>18039</th>\n",
              "      <td>\"I just want to get my clothes on and get the ...</td>\n",
              "    </tr>\n",
              "    <tr>\n",
              "      <th>12010</th>\n",
              "      <td>\"No Good Deed\" is a way-above-average characte...</td>\n",
              "    </tr>\n",
              "    <tr>\n",
              "      <th>49333</th>\n",
              "      <td>\"No Good Deed\" is a way-above-average characte...</td>\n",
              "    </tr>\n",
              "  </tbody>\n",
              "</table>\n",
              "</div>"
            ],
            "text/plain": [
              "                                                  review\n",
              "46126  \"23\" is one of the best german movies for a lo...\n",
              "46125  \"23\" is one of the best german movies for a lo...\n",
              "4342   \"Bambi 2\" is one of those rare cases which one...\n",
              "24761  \"Bambi 2\" is one of those rare cases which one...\n",
              "24261  \"FrÃ¼hling auf dem Eis\" shows a large number o...\n",
              "24246  \"FrÃ¼hling auf dem Eis\" shows a large number o...\n",
              "3938   \"I just want to get my clothes on and get the ...\n",
              "18039  \"I just want to get my clothes on and get the ...\n",
              "12010  \"No Good Deed\" is a way-above-average characte...\n",
              "49333  \"No Good Deed\" is a way-above-average characte..."
            ]
          },
          "metadata": {
            "tags": []
          },
          "execution_count": 5
        }
      ]
    },
    {
      "cell_type": "markdown",
      "metadata": {
        "id": "aNJ2wM0y2M2f"
      },
      "source": [
        "Pelo fato de as avaliações duplicadas não serem muito simples, é provável que as duplicações de devam a erros na coleta dos dados e não duplicações que poderiam de fato ocorrer. Então, vamos excluir uma das avaliações duplicadas:"
      ]
    },
    {
      "cell_type": "code",
      "metadata": {
        "id": "9_0NwZs12M2g",
        "outputId": "fdfc0096-5f65-4404-cd43-7ebd182bf80f"
      },
      "source": [
        "data=data.drop_duplicates(subset='review', keep='first')\n",
        "data.shape"
      ],
      "execution_count": null,
      "outputs": [
        {
          "output_type": "execute_result",
          "data": {
            "text/plain": [
              "(49473, 1)"
            ]
          },
          "metadata": {
            "tags": []
          },
          "execution_count": 6
        }
      ]
    },
    {
      "cell_type": "markdown",
      "metadata": {
        "id": "MIIX8NTR2M2k"
      },
      "source": [
        "Vamos passar nossos textos para o formato de lista:"
      ]
    },
    {
      "cell_type": "code",
      "metadata": {
        "id": "BkD8sCFh2M2l"
      },
      "source": [
        "texts=data['review'].tolist()"
      ],
      "execution_count": null,
      "outputs": []
    },
    {
      "cell_type": "markdown",
      "metadata": {
        "id": "KNIhH7Gc2M2s"
      },
      "source": [
        "Checando um texto da lista:"
      ]
    },
    {
      "cell_type": "code",
      "metadata": {
        "id": "pCz0--Gt2M2t",
        "outputId": "7746536e-38c9-42b0-b20e-f0d3e3f1fe6b"
      },
      "source": [
        "texts[0]"
      ],
      "execution_count": null,
      "outputs": [
        {
          "output_type": "execute_result",
          "data": {
            "text/plain": [
              "'I admit, the great majority of films released before say 1933 are just not for me. Of the dozen or so \"major\" silents I have viewed, one I loved (The Crowd), and two were very good (The Last Command and City Lights, that latter Chaplin circa 1931).<br /><br />So I was apprehensive about this one, and humor is often difficult to appreciate (uh, enjoy) decades later. I did like the lead actors, but thought little of the film.<br /><br />One intriguing sequence. Early on, the guys are supposed to get \"de-loused\" and for about three minutes, fully dressed, do some schtick. In the background, perhaps three dozen men pass by, all naked, white and black (WWI ?), and for most, their butts, part or full backside, are shown. Was this an early variation of beefcake courtesy of Howard Hughes?'"
            ]
          },
          "metadata": {
            "tags": []
          },
          "execution_count": 8
        }
      ]
    },
    {
      "cell_type": "markdown",
      "metadata": {
        "id": "rMom0I9m2M21"
      },
      "source": [
        "Definindo uma função para a limpeza dos textos. Note que a função que utilizaremos para a limpeza deve ser também utilizada quando fizermos uso do modelo treinado:"
      ]
    },
    {
      "cell_type": "code",
      "metadata": {
        "id": "W8xKUdUB2M21"
      },
      "source": [
        "def clean(text):\n",
        "    txt=text.replace(\"<br />\",\" \") #retirando tags\n",
        "    txt=fix_text(txt) #consertando Mojibakes (Ver https://pypi.org/project/ftfy/)\n",
        "    txt=txt.lower() #passando tudo para minúsculo\n",
        "    txt=txt.translate(str.maketrans('', '', string.punctuation)) #retirando toda pontuação\n",
        "    txt=txt.replace(\" — \", \" \") #retirando hífens\n",
        "    txt=re.sub(\"\\d+\", ' <number> ', txt) #colocando um token especial para os números\n",
        "    txt=re.sub(' +', ' ', txt) #deletando espaços extras\n",
        "    return txt"
      ],
      "execution_count": null,
      "outputs": []
    },
    {
      "cell_type": "markdown",
      "metadata": {
        "id": "2JLox1dK2M25"
      },
      "source": [
        "Limpando cada um dos textos:"
      ]
    },
    {
      "cell_type": "code",
      "metadata": {
        "id": "O-INH1tt2M26",
        "outputId": "1562a13b-ccb8-44b5-8544-7b99948117e4"
      },
      "source": [
        "%%time\n",
        "texts=[clean(t) for t in texts]"
      ],
      "execution_count": null,
      "outputs": [
        {
          "output_type": "stream",
          "text": [
            "Wall time: 2min 34s\n"
          ],
          "name": "stdout"
        }
      ]
    },
    {
      "cell_type": "markdown",
      "metadata": {
        "id": "sT9pwIzH2M2-"
      },
      "source": [
        "Checando o mesmo texto de forma limpa:"
      ]
    },
    {
      "cell_type": "code",
      "metadata": {
        "id": "R1KGjA_p2M2_",
        "outputId": "f752b079-1355-45bb-9afc-35143d437f07"
      },
      "source": [
        "texts[0]"
      ],
      "execution_count": null,
      "outputs": [
        {
          "output_type": "execute_result",
          "data": {
            "text/plain": [
              "'i admit the great majority of films released before say <number> are just not for me of the dozen or so major silents i have viewed one i loved the crowd and two were very good the last command and city lights that latter chaplin circa <number> so i was apprehensive about this one and humor is often difficult to appreciate uh enjoy decades later i did like the lead actors but thought little of the film one intriguing sequence early on the guys are supposed to get deloused and for about three minutes fully dressed do some schtick in the background perhaps three dozen men pass by all naked white and black wwi and for most their butts part or full backside are shown was this an early variation of beefcake courtesy of howard hughes'"
            ]
          },
          "metadata": {
            "tags": []
          },
          "execution_count": 11
        }
      ]
    },
    {
      "cell_type": "markdown",
      "metadata": {
        "id": "Wy-qgNjG2M3D"
      },
      "source": [
        "Tokenizando os textos:"
      ]
    },
    {
      "cell_type": "code",
      "metadata": {
        "id": "8lHprANY2M3E"
      },
      "source": [
        "tokens=[t.split() for t in texts]"
      ],
      "execution_count": null,
      "outputs": []
    },
    {
      "cell_type": "markdown",
      "metadata": {
        "id": "DfNUJPY-2M3I"
      },
      "source": [
        "### O modelo Doc2Vec\n",
        "\n",
        "Vamos fazer uma breve introdução ao modelo **Doc2Vec** para a a geração de representações de textos (embeddings) de uma forma fácil e rápida. O modelo **Doc2Vec** é do ano de 2014 e foi descrito pela primeira por pesquisadores do Google no artigo [1] - as imagens utilizadas a seguir foram retiradas deste artigo. Um tutorial bem didático de como a técnica funciona pode ser acessado no link [2] e a documentação do método está em [3]. Antes de explicar como é o funcionamento do modelo **Doc2Vec** é necessário entender como o modelo **Word2Vec**, para o cálculo de representações para palavras, funciona. O modelo **Word2Vec** é um modelo que gera representações vetoriais para palavras de acordo com os contextos em que as palavras aparecem nos textos da nossa base de dados. Dessa maneira é possível pensar que a palavra 'rei' está para 'homem' assim como 'rainha' está para 'mulher' como na figura abaixo:\n",
        "\n",
        "<figure>\n",
        "<center>\n",
        "<img src='https://raw.githubusercontent.com/felipemaiapolo/hands-on_ic_ml/master/word2vec.png' />\n",
        "</center>\n",
        "</figure>\n",
        "\n",
        "É impressionante ver o poder de uma técnica relativamente simples que é o **Word2Vec**. Existem basicamente duas versões de modelos para o **Word2Vec**, a COBW (Continuous Bag of Words) e Skip-Gram - aqui focaremos basicamente na primeira abordagem. A abordagem COBW considera que a posição das palavras podem ser preditas pelo contextos nas quais estão inseridas (palavras no entorno). Chamamos esse contexto de 'janela'. Todas as palavras do vocabulário começam ccom uma representação aleatória que o modelo melhora de acordo com o processo de aprendiagem ao tentar inferir a presença de palavras pelos contextos nos quais estão inseridas. Assim cada palavra adquire uma representação compatível com os contextos em que geralmente essa palavra aparece. Temos então o seguinte esquema para uma implementação do **Word2Vec** COBW:\n",
        "\n",
        "<figure>\n",
        "<center>\n",
        "<img src='https://raw.githubusercontent.com/felipemaiapolo/hands-on_ic_ml/master/word2vec2.png' />\n",
        "</center>\n",
        "</figure>\n",
        "\n",
        "Agora que entendemos um pouco melhor como funciona o modelo **Word2Vec**, podemos entender como é o funcionamento do **Doc2Vec**. O segundo modelo acaba sendo uma extensão do primeiro. Assim como o **Word2Vec**, o modelo **Doc2Vec** tem duas versões principais e aqui focaremos naquela análoga ao COBW, que se chama PV-DM (Distributed Memory version of Paragraph Vector). A ideia continua igual, no entanto adicionamos um vetor específico para cada um dos documentos afim de predizer as palavras daquele documento específico. Assim, parte da informação que não capturada pelas representações das palavras é aprendida pelas representações dos textos. Quando formos treinar o modelo **Doc2vec** basta fornecermos os parâmetros 'window' (para o tamanho da janela) e 'size' para o tamanho dos embeddings (representações dos textos).\n",
        "\n",
        "<figure>\n",
        "<center>\n",
        "<img src='https://raw.githubusercontent.com/felipemaiapolo/hands-on_ic_ml/master/doc2vec.png' />\n",
        "</center>\n",
        "</figure>\n",
        "\n",
        "Fontes:\n",
        "\n",
        "1. Le, Q., & Mikolov, T. (2014, January). Distributed representations of sentences and documents. In International conference on machine learning (pp. 1188-1196). \n",
        "Link: https://cs.stanford.edu/~quocle/paragraph_vector.pdf\n",
        "2. https://medium.com/scaleabout/a-gentle-introduction-to-doc2vec-db3e8c0cce5e\n",
        "3. https://radimrehurek.com/gensim/models/doc2vec.html"
      ]
    },
    {
      "cell_type": "markdown",
      "metadata": {
        "id": "itPGVAal2M3J"
      },
      "source": [
        "### Treinando Doc2Vec"
      ]
    },
    {
      "cell_type": "markdown",
      "metadata": {
        "id": "qc4mS_0C2M3K"
      },
      "source": [
        "Especificando hiperparâmetros para treinar modelo Doc2Vec. Neste caso 'window' se refere à distância máxima (em número de palavras) entre as palavras a serem inferidas e aquelas consideradas de contexto."
      ]
    },
    {
      "cell_type": "code",
      "metadata": {
        "collapsed": true,
        "id": "nIIHdXKO2M3K"
      },
      "source": [
        "size=50\n",
        "window=10"
      ],
      "execution_count": null,
      "outputs": []
    },
    {
      "cell_type": "markdown",
      "metadata": {
        "id": "F5r-lddQ2M3O"
      },
      "source": [
        "Treinando modelo:"
      ]
    },
    {
      "cell_type": "code",
      "metadata": {
        "id": "MszpOWa92M3O",
        "outputId": "2690a8aa-6bbd-41a4-ae53-cfa88ff17601"
      },
      "source": [
        "%%time\n",
        "\n",
        "documents = [TaggedDocument(doc, [i]) for i, doc in enumerate(tokens)]\n",
        "model = Doc2Vec(documents, vector_size=size, window=window, dm_mean=1, epochs=10)"
      ],
      "execution_count": null,
      "outputs": [
        {
          "output_type": "stream",
          "text": [
            "Wall time: 8min 30s\n"
          ],
          "name": "stdout"
        }
      ]
    },
    {
      "cell_type": "markdown",
      "metadata": {
        "id": "qSAVnFmP2M3T"
      },
      "source": [
        "Salvando modelo em disco:"
      ]
    },
    {
      "cell_type": "code",
      "metadata": {
        "collapsed": true,
        "id": "GKB6xnxY2M3U"
      },
      "source": [
        "model.save('models/doc2vec')"
      ],
      "execution_count": null,
      "outputs": []
    },
    {
      "cell_type": "markdown",
      "metadata": {
        "id": "XLqTY9Re2M3Y"
      },
      "source": [
        "### Utilizando o modelo Doc2Vec pré-treinado"
      ]
    },
    {
      "cell_type": "markdown",
      "metadata": {
        "id": "Iw6b2r2Q2M3Y"
      },
      "source": [
        "Carregando modelo:"
      ]
    },
    {
      "cell_type": "code",
      "metadata": {
        "collapsed": true,
        "id": "aXNrKVxw2M3Z"
      },
      "source": [
        "d2v = Doc2Vec.load('models/doc2vec')  "
      ],
      "execution_count": null,
      "outputs": []
    },
    {
      "cell_type": "markdown",
      "metadata": {
        "id": "a8SiagCu2M3d"
      },
      "source": [
        "A inferência do vetor para um texto específico é feita utilizando a descida pela gradiente, congelando a rede neural do Doc2Vec e atualizando somente os pesos referentes ao novo texto. Na função abaixo, fixamos uma semente (*seed*) afim de garantir resultados reprodutíveis e definimos que a descida pelo gradiente dê 20 passos:\n",
        "\n",
        "Definindo função que fará o embedding:"
      ]
    },
    {
      "cell_type": "code",
      "metadata": {
        "collapsed": true,
        "id": "XKwGFvpO2M3e"
      },
      "source": [
        "def emb(string, model, normalize=False): \n",
        "    model.random.seed(42)\n",
        "    x=model.infer_vector(string, steps=20)\n",
        "    \n",
        "    if normalize: return(x/np.sqrt(x@x))\n",
        "    else: return(x)"
      ],
      "execution_count": null,
      "outputs": []
    },
    {
      "cell_type": "markdown",
      "metadata": {
        "id": "eWACcX8S2M3i"
      },
      "source": [
        "Aplicando o embedding em um texto tokenizado:"
      ]
    },
    {
      "cell_type": "code",
      "metadata": {
        "id": "o9FW23Qy2M3j",
        "outputId": "eb0969cb-2cbb-41e9-8254-dbe71add4932"
      },
      "source": [
        "emb(tokens[0], d2v)"
      ],
      "execution_count": null,
      "outputs": [
        {
          "output_type": "execute_result",
          "data": {
            "text/plain": [
              "array([ 3.2720238e-01,  1.0002006e-01,  3.6646891e-01, -7.6953822e-01,\n",
              "       -2.2091943e-01,  1.8383975e-01,  1.4855469e+00, -2.1185230e-01,\n",
              "       -2.5634834e-01,  5.3989732e-01, -4.3822423e-01,  6.8749368e-01,\n",
              "       -1.3939017e+00, -3.8330942e-01, -8.6692971e-01,  3.2129115e-01,\n",
              "       -1.5628634e-01,  3.3577386e-01,  1.0269157e-02, -3.9530829e-01,\n",
              "        3.1471175e-01, -6.3177854e-01, -7.9842693e-01,  3.0516831e-02,\n",
              "       -6.3004088e-01,  9.5127458e-03, -8.9939868e-01, -8.0214388e-04,\n",
              "       -3.7771583e-01,  4.3209093e-03,  1.1125712e-01, -6.0520679e-01,\n",
              "       -3.8613603e-01, -7.0697349e-01, -1.1831897e+00, -4.0622354e-02,\n",
              "       -3.5347959e-01,  7.6130766e-01, -2.8039217e-01,  9.1689147e-02,\n",
              "       -1.6773320e-04,  9.3781024e-01, -5.9024721e-02, -7.4942613e-01,\n",
              "       -4.3965694e-01, -3.6232564e-01, -7.6080218e-02,  1.0506950e-02,\n",
              "        1.5161656e-01, -2.6468045e-01], dtype=float32)"
            ]
          },
          "metadata": {
            "tags": []
          },
          "execution_count": 18
        }
      ]
    },
    {
      "cell_type": "markdown",
      "metadata": {
        "id": "cqrXTsQF2M3n"
      },
      "source": [
        "#### Rrepresentações vetoriais para palavras\n",
        "\n",
        "Um bônus em treinar um modelo Doc2Vec é que também temos necessariamento as representações (Word2Vec) para palavras que aparecem nos textos. \n",
        "\n",
        "Vamos ver uma delas:"
      ]
    },
    {
      "cell_type": "code",
      "metadata": {
        "id": "-4OiHLOS2M3n",
        "outputId": "a999a6b3-745f-41c2-e193-a90bc97d1421"
      },
      "source": [
        "d2v['good']"
      ],
      "execution_count": null,
      "outputs": [
        {
          "output_type": "execute_result",
          "data": {
            "text/plain": [
              "array([-0.7895349 , -3.477125  ,  0.99723434,  0.4173037 ,  2.7269864 ,\n",
              "        1.8725613 ,  0.20203617, -1.3936491 ,  4.152212  , -3.052271  ,\n",
              "       -0.71111435, -1.8982729 ,  0.8455196 , -0.70155317, -0.2260811 ,\n",
              "        1.28565   ,  2.173423  ,  0.9062328 ,  0.40258485,  0.25527155,\n",
              "        0.43379837,  0.17549638, -2.349485  , -1.9946835 , -1.9191269 ,\n",
              "       -1.0554327 ,  3.174467  , -0.18777287, -4.4598618 , -0.16779557,\n",
              "        5.2075014 , -0.07513222,  0.32187274,  1.1599425 ,  1.2363391 ,\n",
              "       -0.05609984,  2.9534173 ,  0.9402622 , -0.5216885 , -5.025815  ,\n",
              "       -2.682868  , -1.4853902 , -2.2633944 , -1.3673366 , -1.4673622 ,\n",
              "       -2.6120706 ,  1.6283203 , -0.3039676 , -0.2547665 , -0.43060428],\n",
              "      dtype=float32)"
            ]
          },
          "metadata": {
            "tags": []
          },
          "execution_count": 19
        }
      ]
    },
    {
      "cell_type": "markdown",
      "metadata": {
        "id": "0Def6Get2M3v"
      },
      "source": [
        "### Aplicação: Similaridade entre Textos"
      ]
    },
    {
      "cell_type": "markdown",
      "metadata": {
        "id": "X8146jzz2M3x"
      },
      "source": [
        "No contexto de NLP é comum utilizarmos a similaridade de cossenos para compararmos dois textos. É importante recordar que em nosso contexto, cada um dos textos é tratado como um vetor com comprimento, direção e sentido. Um vetor será expresso aqui na forma de matrizes unidimensionais (Numpy arrays). Um vetor de tamanho $n$ é uma lista de valores em forma matricial da seguinte forma:\n",
        "\n",
        "\\begin{equation}\n",
        "  \\begin{aligned}\n",
        "      \\mathbf{x}=\\begin{pmatrix} x_1 \n",
        "      \\\\ x_2\n",
        "      \\\\ ...\n",
        "      \\\\ x_n\n",
        "     \\end{pmatrix}\n",
        "   \\end{aligned}\n",
        "\\end{equation}\n",
        "\n",
        "Assumindo que outro vetor $\\mathbf{y}$ tenha o mesmo tamanho de $\\mathbf{x}$, o cosseno do ângulo ($\\theta$) entre os vetores é calculado da seguinte forma:\n",
        "\n",
        "\\begin{equation}\n",
        "  \\begin{aligned}\n",
        "      cos(\\theta)=\\frac{\\sum_{i=1}^{n}x_iy_i }{\\sqrt{\\sum_{i=1}^{n}x_i^2}\\sqrt{\\sum_{i=1}^{n}y_i^2}}=\n",
        "      \\frac{\\mathbf{x}^T\\mathbf{y}}{\\sqrt{\\mathbf{x}^T\\mathbf{x}}.\\sqrt{\\mathbf{y}^T\\mathbf{y}}}=\n",
        "      \\frac{\\mathbf{x}^T\\mathbf{y}}{\\left \\| \\mathbf{x} \\right \\|.\\left \\| \\mathbf{y} \\right \\|}\n",
        "   \\end{aligned}\n",
        "\\end{equation}\n",
        "\n",
        "Se o comprimento dos vetores $\\mathbf{y}$ e $\\mathbf{x}$ é um, então podemos reescrever o cosseno da seguinte forma:\n",
        "\n",
        "\\begin{equation}\n",
        "  \\begin{aligned}\n",
        "      cos(\\theta)=\\sum_{i=1}^{n}x_iy_i=\n",
        "      \\mathbf{x}^T\\mathbf{y}\n",
        "   \\end{aligned}\n",
        "\\end{equation}\n",
        "\n",
        "Para normalizar um vetor $\\mathbf{x}$ para que tenha comprimento 1, basta fazer a seguinte atualização:\n",
        "\n",
        "\\begin{equation}\n",
        "  \\begin{aligned}\n",
        "      \\mathbf{x}=\\frac{\\mathbf{x}}{\\sqrt{\\mathbf{x}^T\\mathbf{x}}}\n",
        "   \\end{aligned}\n",
        "\\end{equation}"
      ]
    },
    {
      "cell_type": "markdown",
      "metadata": {
        "id": "-RWrsDi22M3z"
      },
      "source": [
        "Para entender melhor, vamos definir uma função que calcula a similaridade entre dois vetores. A similaridade (cosseno) varia de -1 a 1 sendo que valores positivos tem sentido parecidos e valores negativos nos dão sentidos opostos:"
      ]
    },
    {
      "cell_type": "code",
      "metadata": {
        "collapsed": true,
        "id": "fdRLQQhz2M3z"
      },
      "source": [
        "def simil(x,y):\n",
        "    return((x@y)/np.sqrt((x@x)*(y@y)))"
      ],
      "execution_count": null,
      "outputs": []
    },
    {
      "cell_type": "markdown",
      "metadata": {
        "id": "o3z8W5bT2M4A"
      },
      "source": [
        "Definindo dois vetores e os visualizando:"
      ]
    },
    {
      "cell_type": "code",
      "metadata": {
        "id": "zvWO3CFc2M4C",
        "outputId": "1ffd9b4d-ffb5-464a-9c9d-d5b67ba9c9fa"
      },
      "source": [
        "v1=np.array([2,2])\n",
        "v2=np.array([2,2.5])\n",
        "\n",
        "V = np.array([v1,v2])\n",
        "origin = [0], [0] # origin point\n",
        "\n",
        "plt.quiver(*origin, V[:,0], V[:,1], color=['r','b','g'], scale=10)\n",
        "plt.show()"
      ],
      "execution_count": null,
      "outputs": [
        {
          "output_type": "display_data",
          "data": {
            "image/png": "[encoded data removed]",
            "text/plain": [
              "<matplotlib.figure.Figure at 0x1f1d3530198>"
            ]
          },
          "metadata": {
            "tags": []
          }
        }
      ]
    },
    {
      "cell_type": "markdown",
      "metadata": {
        "id": "nruVn1l32M4H"
      },
      "source": [
        "Veja que o menor ângulo entre os vetores é pequeno então a similaridade deve dar algo próximo de 1:"
      ]
    },
    {
      "cell_type": "code",
      "metadata": {
        "id": "hLxqhY-Y2M4I",
        "outputId": "da0b3d8b-b907-4cd4-f2b0-d9b7b38d6f0c"
      },
      "source": [
        "simil(v1,v2)"
      ],
      "execution_count": null,
      "outputs": [
        {
          "output_type": "execute_result",
          "data": {
            "text/plain": [
              "0.9938837346736188"
            ]
          },
          "metadata": {
            "tags": []
          },
          "execution_count": 22
        }
      ]
    },
    {
      "cell_type": "markdown",
      "metadata": {
        "id": "RUzyTa2b2M4L"
      },
      "source": [
        "Veja que o cosseno entre os vetores não depende do tamanho dos vetores. Vamos manter o ângulo mas diminuindo o tamanho do vetor vermelho:"
      ]
    },
    {
      "cell_type": "code",
      "metadata": {
        "id": "qISX8p_w2M4M",
        "outputId": "e6cd33bc-38fb-43c2-fa2d-04f42a65862b"
      },
      "source": [
        "v1=np.array([1,1])\n",
        "v2=np.array([2,2.5])\n",
        "\n",
        "V = np.array([v1,v2])\n",
        "origin = [0], [0] # origin point\n",
        "\n",
        "plt.quiver(*origin, V[:,0], V[:,1], color=['r','b','g'], scale=10)\n",
        "plt.show()"
      ],
      "execution_count": null,
      "outputs": [
        {
          "output_type": "display_data",
          "data": {
            "image/png": "[encoded data removed]",
            "text/plain": [
              "<matplotlib.figure.Figure at 0x1f1d1cb2908>"
            ]
          },
          "metadata": {
            "tags": []
          }
        }
      ]
    },
    {
      "cell_type": "markdown",
      "metadata": {
        "id": "PkjUgk382M4W"
      },
      "source": [
        "Veja que a medida de similaridade não mudou:"
      ]
    },
    {
      "cell_type": "code",
      "metadata": {
        "id": "1RkqhAPf2M4Y",
        "outputId": "4d9d1e7e-47ed-4a19-9a77-92eab2fd21a4"
      },
      "source": [
        "simil(v1,v2)"
      ],
      "execution_count": null,
      "outputs": [
        {
          "output_type": "execute_result",
          "data": {
            "text/plain": [
              "0.9938837346736188"
            ]
          },
          "metadata": {
            "tags": []
          },
          "execution_count": 24
        }
      ]
    },
    {
      "cell_type": "markdown",
      "metadata": {
        "id": "CjFWQ9Be2M4b"
      },
      "source": [
        "Se os vetores formam 90 graus entre si, temos que eles são ortogonais (não tem similaridade alguma entre si):"
      ]
    },
    {
      "cell_type": "code",
      "metadata": {
        "id": "h9BtCepm2M4d",
        "outputId": "730e726d-e9fe-4816-94ef-1f7927ecd122"
      },
      "source": [
        "v1=np.array([-5,4])\n",
        "v2=np.array([2,2.5])\n",
        "\n",
        "V = np.array([v1,v2])\n",
        "origin = [0], [0] # origin point\n",
        "\n",
        "plt.quiver(*origin, V[:,0], V[:,1], color=['r','b','g'], scale=15)\n",
        "plt.show()"
      ],
      "execution_count": null,
      "outputs": [
        {
          "output_type": "display_data",
          "data": {
            "image/png": "[encoded data removed]",
            "text/plain": [
              "<matplotlib.figure.Figure at 0x1f1d1d6a668>"
            ]
          },
          "metadata": {
            "tags": []
          }
        }
      ]
    },
    {
      "cell_type": "markdown",
      "metadata": {
        "id": "7HI5EGX22M4k"
      },
      "source": [
        "Calculando a similaridade:"
      ]
    },
    {
      "cell_type": "code",
      "metadata": {
        "id": "RzcslK1x2M4l",
        "outputId": "615ea1c9-47cb-4c32-fb27-b06eb36606a7"
      },
      "source": [
        "simil(v1,v2)"
      ],
      "execution_count": null,
      "outputs": [
        {
          "output_type": "execute_result",
          "data": {
            "text/plain": [
              "0.0"
            ]
          },
          "metadata": {
            "tags": []
          },
          "execution_count": 26
        }
      ]
    },
    {
      "cell_type": "markdown",
      "metadata": {
        "id": "DT1xkNN12M4s"
      },
      "source": [
        "Já se o menor ângulo entre os vetores é maior que 90 graus, ou seja, os vetores estão 'apontando' para sentidos opostos, a similaridade é negativa:"
      ]
    },
    {
      "cell_type": "code",
      "metadata": {
        "id": "-L1agwJw2M4s",
        "outputId": "fced368c-dbb5-4db4-9a6d-75c393ef7efd"
      },
      "source": [
        "v1=np.array([-6,1])\n",
        "v2=np.array([2,-2.5])\n",
        "\n",
        "V = np.array([v1,v2])\n",
        "origin = [0], [0] # origin point\n",
        "\n",
        "plt.quiver(*origin, V[:,0], V[:,1], color=['r','b','g'], scale=15)\n",
        "plt.show()"
      ],
      "execution_count": null,
      "outputs": [
        {
          "output_type": "display_data",
          "data": {
            "image/png": "[encoded data removed]",
            "text/plain": [
              "<matplotlib.figure.Figure at 0x1f1d45c9be0>"
            ]
          },
          "metadata": {
            "tags": []
          }
        }
      ]
    },
    {
      "cell_type": "markdown",
      "metadata": {
        "id": "2mPgCa9n2M4w"
      },
      "source": [
        "Similaridade:"
      ]
    },
    {
      "cell_type": "code",
      "metadata": {
        "id": "vXNibCr02M4x",
        "outputId": "b1e9cc8d-b00e-49f4-bcb2-23cc04127e13"
      },
      "source": [
        "simil(v1,v2)"
      ],
      "execution_count": null,
      "outputs": [
        {
          "output_type": "execute_result",
          "data": {
            "text/plain": [
              "-0.7445694406464903"
            ]
          },
          "metadata": {
            "tags": []
          },
          "execution_count": 28
        }
      ]
    },
    {
      "cell_type": "markdown",
      "metadata": {
        "id": "rYgvkq0M2M5A"
      },
      "source": [
        "Vamos transformar alguns dos textos tokenizados em um numpy array, em que cada linha representa um texto diferente. Vamos 'setar' a opção <code>normalize=TRUE</code>, pois tendo vetores com norma euclidiana unitária é mais fácil calcular as similaridades de cosseno:"
      ]
    },
    {
      "cell_type": "code",
      "metadata": {
        "id": "wiDRZgLF2M5B",
        "outputId": "0ceaf52b-84db-4a1f-eadd-648e14ce6252"
      },
      "source": [
        "%%time\n",
        "X = [emb(x, d2v, normalize=True) for x in tokens[:100]] \n",
        "X = np.array(X)"
      ],
      "execution_count": null,
      "outputs": [
        {
          "output_type": "stream",
          "text": [
            "Wall time: 3.89 s\n"
          ],
          "name": "stdout"
        }
      ]
    },
    {
      "cell_type": "markdown",
      "metadata": {
        "id": "ETmorHna2M5O"
      },
      "source": [
        "Vamos calcular as similaridades de alguns textos com eles mesmos:"
      ]
    },
    {
      "cell_type": "code",
      "metadata": {
        "collapsed": true,
        "id": "-dnXjM8V2M5P"
      },
      "source": [
        "similaridade=X@X.T"
      ],
      "execution_count": null,
      "outputs": []
    },
    {
      "cell_type": "markdown",
      "metadata": {
        "id": "DVFl55bX2M5V"
      },
      "source": [
        "Vamos visualizar essa matriz na forma de um heatmap:"
      ]
    },
    {
      "cell_type": "code",
      "metadata": {
        "id": "eKr-Ugid2M5W",
        "outputId": "d5a55f44-0245-4755-db2c-3605dc40c6cc"
      },
      "source": [
        "sns.heatmap(similaridade, cmap=\"Greys\")\n",
        "\n",
        "plt.ylabel('Textos')\n",
        "plt.xlabel('Textos')\n",
        "plt.show()"
      ],
      "execution_count": null,
      "outputs": [
        {
          "output_type": "display_data",
          "data": {
            "image/png": "[encoded data removed]",
            "text/plain": [
              "<matplotlib.figure.Figure at 0x1f1d3539358>"
            ]
          },
          "metadata": {
            "tags": []
          }
        }
      ]
    },
    {
      "cell_type": "markdown",
      "metadata": {
        "id": "jEks1Twn2M5a"
      },
      "source": [
        "Como esperado a diagonal principal está cheia de uns :)\n",
        "\n",
        "Veja que calcular similaridades entre textos é uma coisa muito importante e que pode ser útil se quisermos criar clusters de textos ou utilizar algoritmos supervisionados que necessitam de uma medida para semelhança entre instâncias, e.g. KNN."
      ]
    },
    {
      "cell_type": "markdown",
      "metadata": {
        "id": "DEJ-SOjo2M5g"
      },
      "source": [
        "#### Clustering"
      ]
    },
    {
      "cell_type": "markdown",
      "metadata": {
        "id": "82XyTbpG2M5i"
      },
      "source": [
        "Vamos criar dois clusters de textos utilizando clusterização espectral:"
      ]
    },
    {
      "cell_type": "code",
      "metadata": {
        "collapsed": true,
        "id": "YoyXrr9-2M5j"
      },
      "source": [
        "clustering = SpectralClustering(n_clusters=2, affinity='precomputed', random_state=0).fit(similaridade+1)"
      ],
      "execution_count": null,
      "outputs": []
    },
    {
      "cell_type": "markdown",
      "metadata": {
        "id": "QI-5NPZi2M5x"
      },
      "source": [
        "Vendo labels:"
      ]
    },
    {
      "cell_type": "code",
      "metadata": {
        "id": "4QhDSllb2M5z",
        "outputId": "5e47bfba-e068-4503-a292-77294eeed053"
      },
      "source": [
        "clustering.labels_"
      ],
      "execution_count": null,
      "outputs": [
        {
          "output_type": "execute_result",
          "data": {
            "text/plain": [
              "array([1, 1, 1, 0, 0, 0, 0, 0, 0, 0, 0, 1, 0, 0, 0, 0, 0, 0, 0, 0, 0, 0,\n",
              "       1, 0, 0, 0, 0, 0, 0, 0, 0, 0, 0, 1, 0, 0, 0, 1, 0, 0, 1, 1, 1, 1,\n",
              "       1, 0, 1, 0, 1, 1, 0, 1, 0, 1, 1, 1, 1, 1, 1, 1, 1, 0, 1, 1, 1, 0,\n",
              "       1, 0, 1, 1, 1, 1, 1, 1, 1, 1, 1, 1, 1, 1, 1, 1, 1, 1, 1, 1, 1, 1,\n",
              "       1, 1, 1, 1, 1, 1, 1, 1, 1, 1, 1, 0])"
            ]
          },
          "metadata": {
            "tags": []
          },
          "execution_count": 33
        }
      ]
    },
    {
      "cell_type": "markdown",
      "metadata": {
        "id": "rJ4gt81o2M5_"
      },
      "source": [
        "Somamos 1 às similaridades pois o algoritmo não aceita valores negativos.\n",
        "\n",
        "Agora vamos garantir que textos do mesmo cluster fiquem lado a lado:"
      ]
    },
    {
      "cell_type": "code",
      "metadata": {
        "collapsed": true,
        "id": "ImAVPpYg2M6B"
      },
      "source": [
        "X=X[np.argsort(clustering.labels_)]"
      ],
      "execution_count": null,
      "outputs": []
    },
    {
      "cell_type": "markdown",
      "metadata": {
        "id": "NZVDYFHV2M6J"
      },
      "source": [
        "Recalculando as similaridades:"
      ]
    },
    {
      "cell_type": "code",
      "metadata": {
        "collapsed": true,
        "id": "O73oyih72M6K"
      },
      "source": [
        "similaridade=X@X.T"
      ],
      "execution_count": null,
      "outputs": []
    },
    {
      "cell_type": "markdown",
      "metadata": {
        "id": "TwtVcMwY2M6P"
      },
      "source": [
        "Plotando:"
      ]
    },
    {
      "cell_type": "code",
      "metadata": {
        "id": "upghJBf-2M6P",
        "outputId": "9212d460-004a-47f6-e438-b8f809e65152"
      },
      "source": [
        "sns.heatmap(similaridade, cmap=\"Greys\")\n",
        "\n",
        "plt.ylabel('Textos')\n",
        "plt.xlabel('Textos')\n",
        "plt.show()"
      ],
      "execution_count": null,
      "outputs": [
        {
          "output_type": "display_data",
          "data": {
            "image/png": "[encoded data removed]",
            "text/plain": [
              "<matplotlib.figure.Figure at 0x1f1d46a90f0>"
            ]
          },
          "metadata": {
            "tags": []
          }
        }
      ]
    },
    {
      "cell_type": "markdown",
      "metadata": {
        "id": "OIoIkCt12M6S"
      },
      "source": [
        "É possível ver que temos um cluster muito bem definido, enquanto o outro não está tão bem definido assim."
      ]
    }
  ]
}