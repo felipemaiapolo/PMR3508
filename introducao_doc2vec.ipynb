{
  "nbformat": 4,
  "nbformat_minor": 0,
  "metadata": {
    "kernelspec": {
      "display_name": "Python 3",
      "language": "python",
      "name": "python3"
    },
    "language_info": {
      "codemirror_mode": {
        "name": "ipython",
        "version": 3
      },
      "file_extension": ".py",
      "mimetype": "text/x-python",
      "name": "python",
      "nbconvert_exporter": "python",
      "pygments_lexer": "ipython3",
      "version": "3.5.2"
    },
    "colab": {
      "name": "introducao-doc2vec.ipynb",
      "provenance": [],
      "include_colab_link": true
    }
  },
  "cells": [
    {
      "cell_type": "markdown",
      "metadata": {
        "id": "view-in-github",
        "colab_type": "text"
      },
      "source": [
        "<a href=\"https://colab.research.google.com/github/felipemaiapolo/analise_sentimentos_PMR3508/blob/main/introducao_doc2vec.ipynb\" target=\"_parent\"><img src=\"https://colab.research.google.com/assets/colab-badge.svg\" alt=\"Open In Colab\"/></a>"
      ]
    },
    {
      "cell_type": "markdown",
      "metadata": {
        "id": "NRWS5UJRXnOn"
      },
      "source": [
        "# Introdução ao Doc2Vec\n",
        "\n",
        "#### Disciplina: PMR3508 - Aprendizado de Máquina e Reconhecimento de Padrões\n",
        "\n",
        "O objetivo deste notebook é a introdução prática ao modelo de processamento de linguagem natural Doc2Vec. O modelo Doc2Vec é um ótimo exemplo de como as Redes Neurais Artificiais podem ser utilizadas para gerar representações estruturadas para dados, a princípio, não estruturados. Neste material, nosso foco será em mostrar como treinar e utilizar esse modelo em Python, além de dar uma intuição de como o modelo é treinado e de como é feita a inferência das representações para textos que não estão no conjunto de treinamento.\n",
        "\n",
        "### Base de dados que utilizaremos\n",
        "\n",
        "Os dados utilizados neste notebook podem ser encontradas em https://ai.stanford.edu/~amaas/data/sentiment/ em sua forma bruta. Gostaríamos de agradecer aos autores de [0] por disponibilizarem os dados!\n",
        "\n",
        "\n",
        "### Referências\n",
        "\n",
        "[0] Andrew L. Maas, Raymond E. Daly, Peter T. Pham, Dan Huang, Andrew Y. Ng, and Christopher Potts. (2011). Learning Word Vectors for Sentiment Analysis. The 49th Annual Meeting of the Association for Computational Linguistics (ACL 2011)."
      ]
    },
    {
      "cell_type": "markdown",
      "metadata": {
        "id": "wIKzoyYMXnOq"
      },
      "source": [
        "### Iniciando...\n"
      ]
    },
    {
      "cell_type": "markdown",
      "metadata": {
        "id": "GWtnysbyXnOt"
      },
      "source": [
        "Importando bibliotecas necessárias:"
      ]
    },
    {
      "cell_type": "code",
      "metadata": {
        "id": "BK3zAkhYXnOv"
      },
      "source": [
        "#Para o uso geral\n",
        "import random\n",
        "import numpy as np\n",
        "import pandas as pd\n",
        "import copy \n",
        "import time\n",
        "from scipy.stats import uniform\n",
        "import matplotlib.pyplot as plt\n",
        "import seaborn as sns\n",
        "from sklearn.cluster import SpectralClustering\n",
        "import requests\n",
        "import io\n",
        "\n",
        "#Para o processamento de textos\n",
        "from ftfy import fix_text\n",
        "import string\n",
        "import re\n",
        "from gensim.test.utils import common_texts\n",
        "from gensim.models.doc2vec import Doc2Vec, TaggedDocument\n",
        "from gensim.models.word2vec import Word2Vec"
      ],
      "execution_count": null,
      "outputs": []
    },
    {
      "cell_type": "markdown",
      "metadata": {
        "id": "I6FkiY6iXnPA"
      },
      "source": [
        "Para o treinamento do Doc2Vec, utilizaremos dados não rotulados. Ou seja, somente os textos das avaliações sobre os filmes!\n",
        "\n",
        "Vamos abrir a base de avaliações não rotuladas:"
      ]
    },
    {
      "cell_type": "code",
      "metadata": {
        "id": "8SDlMrecXnPC",
        "outputId": "eb5a8dc9-a413-4249-d0a9-814675ccabd0"
      },
      "source": [
        "%%time\n",
        "download = requests.get(\"https://raw.githubusercontent.com/felipemaiapolo/hands-on_ic_ml/master/unsup.csv\").content\n",
        "data = pd.read_csv(io.StringIO(download.decode('utf-8')), sep=',')"
      ],
      "execution_count": null,
      "outputs": [
        {
          "output_type": "stream",
          "text": [
            "Wall time: 25.2 s\n"
          ],
          "name": "stdout"
        }
      ]
    },
    {
      "cell_type": "markdown",
      "metadata": {
        "id": "E2Riw6OHXnPL"
      },
      "source": [
        "Visualizando base de dados:"
      ]
    },
    {
      "cell_type": "code",
      "metadata": {
        "scrolled": true,
        "id": "HiGF_GCOXnPO",
        "outputId": "6428c901-e0ee-4467-c7ef-2aba79ec1ad4"
      },
      "source": [
        "data.head()"
      ],
      "execution_count": null,
      "outputs": [
        {
          "output_type": "execute_result",
          "data": {
            "text/html": [
              "<div>\n",
              "<style scoped>\n",
              "    .dataframe tbody tr th:only-of-type {\n",
              "        vertical-align: middle;\n",
              "    }\n",
              "\n",
              "    .dataframe tbody tr th {\n",
              "        vertical-align: top;\n",
              "    }\n",
              "\n",
              "    .dataframe thead th {\n",
              "        text-align: right;\n",
              "    }\n",
              "</style>\n",
              "<table border=\"1\" class=\"dataframe\">\n",
              "  <thead>\n",
              "    <tr style=\"text-align: right;\">\n",
              "      <th></th>\n",
              "      <th>review</th>\n",
              "    </tr>\n",
              "  </thead>\n",
              "  <tbody>\n",
              "    <tr>\n",
              "      <th>0</th>\n",
              "      <td>I admit, the great majority of films released ...</td>\n",
              "    </tr>\n",
              "    <tr>\n",
              "      <th>1</th>\n",
              "      <td>Take a low budget, inexperienced actors doubli...</td>\n",
              "    </tr>\n",
              "    <tr>\n",
              "      <th>2</th>\n",
              "      <td>Everybody has seen 'Back To The Future,' right...</td>\n",
              "    </tr>\n",
              "    <tr>\n",
              "      <th>3</th>\n",
              "      <td>Doris Day was an icon of beauty in singing and...</td>\n",
              "    </tr>\n",
              "    <tr>\n",
              "      <th>4</th>\n",
              "      <td>After a series of silly, fun-loving movies, 19...</td>\n",
              "    </tr>\n",
              "  </tbody>\n",
              "</table>\n",
              "</div>"
            ],
            "text/plain": [
              "                                              review\n",
              "0  I admit, the great majority of films released ...\n",
              "1  Take a low budget, inexperienced actors doubli...\n",
              "2  Everybody has seen 'Back To The Future,' right...\n",
              "3  Doris Day was an icon of beauty in singing and...\n",
              "4  After a series of silly, fun-loving movies, 19..."
            ]
          },
          "metadata": {
            "tags": []
          },
          "execution_count": 3
        }
      ]
    },
    {
      "cell_type": "markdown",
      "metadata": {
        "id": "gQ3Y2TWaXnPa"
      },
      "source": [
        "Vendo o shape dos dados:"
      ]
    },
    {
      "cell_type": "code",
      "metadata": {
        "id": "12fBipdJXnPc",
        "outputId": "164935ef-c9cd-4ccf-f5c6-49a081f684b8"
      },
      "source": [
        "data.shape"
      ],
      "execution_count": null,
      "outputs": [
        {
          "output_type": "execute_result",
          "data": {
            "text/plain": [
              "(49965, 1)"
            ]
          },
          "metadata": {
            "tags": []
          },
          "execution_count": 4
        }
      ]
    },
    {
      "cell_type": "markdown",
      "metadata": {
        "id": "KNqib3LaXnPj"
      },
      "source": [
        "Vamos checar se há textos duplicados e especular se deveriam estar duplicados ou não:"
      ]
    },
    {
      "cell_type": "code",
      "metadata": {
        "id": "zmUWngu1XnPk",
        "outputId": "ce66900f-9d3a-46fa-b647-980137fb05c4"
      },
      "source": [
        "data.loc[data.duplicated(subset='review', keep=False)==True].sort_values(by='review').head(10)"
      ],
      "execution_count": null,
      "outputs": [
        {
          "output_type": "execute_result",
          "data": {
            "text/html": [
              "<div>\n",
              "<style scoped>\n",
              "    .dataframe tbody tr th:only-of-type {\n",
              "        vertical-align: middle;\n",
              "    }\n",
              "\n",
              "    .dataframe tbody tr th {\n",
              "        vertical-align: top;\n",
              "    }\n",
              "\n",
              "    .dataframe thead th {\n",
              "        text-align: right;\n",
              "    }\n",
              "</style>\n",
              "<table border=\"1\" class=\"dataframe\">\n",
              "  <thead>\n",
              "    <tr style=\"text-align: right;\">\n",
              "      <th></th>\n",
              "      <th>review</th>\n",
              "    </tr>\n",
              "  </thead>\n",
              "  <tbody>\n",
              "    <tr>\n",
              "      <th>46126</th>\n",
              "      <td>\"23\" is one of the best german movies for a lo...</td>\n",
              "    </tr>\n",
              "    <tr>\n",
              "      <th>46125</th>\n",
              "      <td>\"23\" is one of the best german movies for a lo...</td>\n",
              "    </tr>\n",
              "    <tr>\n",
              "      <th>4342</th>\n",
              "      <td>\"Bambi 2\" is one of those rare cases which one...</td>\n",
              "    </tr>\n",
              "    <tr>\n",
              "      <th>24761</th>\n",
              "      <td>\"Bambi 2\" is one of those rare cases which one...</td>\n",
              "    </tr>\n",
              "    <tr>\n",
              "      <th>24261</th>\n",
              "      <td>\"FrÃ¼hling auf dem Eis\" shows a large number o...</td>\n",
              "    </tr>\n",
              "    <tr>\n",
              "      <th>24246</th>\n",
              "      <td>\"FrÃ¼hling auf dem Eis\" shows a large number o...</td>\n",
              "    </tr>\n",
              "    <tr>\n",
              "      <th>3938</th>\n",
              "      <td>\"I just want to get my clothes on and get the ...</td>\n",
              "    </tr>\n",
              "    <tr>\n",
              "      <th>18039</th>\n",
              "      <td>\"I just want to get my clothes on and get the ...</td>\n",
              "    </tr>\n",
              "    <tr>\n",
              "      <th>12010</th>\n",
              "      <td>\"No Good Deed\" is a way-above-average characte...</td>\n",
              "    </tr>\n",
              "    <tr>\n",
              "      <th>49333</th>\n",
              "      <td>\"No Good Deed\" is a way-above-average characte...</td>\n",
              "    </tr>\n",
              "  </tbody>\n",
              "</table>\n",
              "</div>"
            ],
            "text/plain": [
              "                                                  review\n",
              "46126  \"23\" is one of the best german movies for a lo...\n",
              "46125  \"23\" is one of the best german movies for a lo...\n",
              "4342   \"Bambi 2\" is one of those rare cases which one...\n",
              "24761  \"Bambi 2\" is one of those rare cases which one...\n",
              "24261  \"FrÃ¼hling auf dem Eis\" shows a large number o...\n",
              "24246  \"FrÃ¼hling auf dem Eis\" shows a large number o...\n",
              "3938   \"I just want to get my clothes on and get the ...\n",
              "18039  \"I just want to get my clothes on and get the ...\n",
              "12010  \"No Good Deed\" is a way-above-average characte...\n",
              "49333  \"No Good Deed\" is a way-above-average characte..."
            ]
          },
          "metadata": {
            "tags": []
          },
          "execution_count": 5
        }
      ]
    },
    {
      "cell_type": "markdown",
      "metadata": {
        "id": "VFKNjd8DXnPp"
      },
      "source": [
        "Pelo fato de as avaliações duplicadas não serem muito simples, é provável que as duplicações se devam a erros na coleta dos dados e não duplicações que poderiam de fato ocorrer. Então, vamos excluir uma das avaliações duplicadas:"
      ]
    },
    {
      "cell_type": "code",
      "metadata": {
        "id": "xdoA2OMeXnPr",
        "outputId": "f47de67b-cdc3-4960-9184-a8554c81b4ae"
      },
      "source": [
        "data=data.drop_duplicates(subset='review', keep='first')\n",
        "data.shape"
      ],
      "execution_count": null,
      "outputs": [
        {
          "output_type": "execute_result",
          "data": {
            "text/plain": [
              "(49473, 1)"
            ]
          },
          "metadata": {
            "tags": []
          },
          "execution_count": 6
        }
      ]
    },
    {
      "cell_type": "markdown",
      "metadata": {
        "id": "XngdviO6XnP1"
      },
      "source": [
        "Vamos passar nossos textos para o formato de lista:"
      ]
    },
    {
      "cell_type": "code",
      "metadata": {
        "id": "TmYk7ytxXnP2"
      },
      "source": [
        "texts=data['review'].tolist()"
      ],
      "execution_count": null,
      "outputs": []
    },
    {
      "cell_type": "markdown",
      "metadata": {
        "id": "ppe8R4MsXnP8"
      },
      "source": [
        "Checando um texto da lista:"
      ]
    },
    {
      "cell_type": "code",
      "metadata": {
        "id": "7I-7ONi9XnP9",
        "outputId": "b68a816c-2338-4f66-f58d-97d073042e01"
      },
      "source": [
        "texts[0]"
      ],
      "execution_count": null,
      "outputs": [
        {
          "output_type": "execute_result",
          "data": {
            "text/plain": [
              "'I admit, the great majority of films released before say 1933 are just not for me. Of the dozen or so \"major\" silents I have viewed, one I loved (The Crowd), and two were very good (The Last Command and City Lights, that latter Chaplin circa 1931).<br /><br />So I was apprehensive about this one, and humor is often difficult to appreciate (uh, enjoy) decades later. I did like the lead actors, but thought little of the film.<br /><br />One intriguing sequence. Early on, the guys are supposed to get \"de-loused\" and for about three minutes, fully dressed, do some schtick. In the background, perhaps three dozen men pass by, all naked, white and black (WWI ?), and for most, their butts, part or full backside, are shown. Was this an early variation of beefcake courtesy of Howard Hughes?'"
            ]
          },
          "metadata": {
            "tags": []
          },
          "execution_count": 8
        }
      ]
    },
    {
      "cell_type": "markdown",
      "metadata": {
        "id": "FUQdEY-pXnQB"
      },
      "source": [
        "Definindo uma função para a limpeza dos textos. Note que a função que utilizaremos para a limpeza deve ser também utilizada quando fizermos uso do modelo treinado:"
      ]
    },
    {
      "cell_type": "code",
      "metadata": {
        "id": "rwBU9b3BXnQC"
      },
      "source": [
        "def clean(text):\n",
        "    txt=text.replace(\"<br />\",\" \") #retirando tags\n",
        "    txt=fix_text(txt) #consertando Mojibakes (Ver https://pypi.org/project/ftfy/)\n",
        "    txt=txt.lower() #passando tudo para minúsculo\n",
        "    txt=txt.translate(str.maketrans('', '', string.punctuation)) #retirando toda pontuação\n",
        "    txt=txt.replace(\" — \", \" \") #retirando hífens\n",
        "    txt=re.sub(\"\\d+\", ' <number> ', txt) #colocando um token especial para os números\n",
        "    txt=re.sub(' +', ' ', txt) #deletando espaços extras\n",
        "    return txt"
      ],
      "execution_count": null,
      "outputs": []
    },
    {
      "cell_type": "markdown",
      "metadata": {
        "id": "Si06OE9dXnQH"
      },
      "source": [
        "Limpando cada um dos textos:"
      ]
    },
    {
      "cell_type": "code",
      "metadata": {
        "id": "tXJcOkaMXnQI",
        "outputId": "9493775c-c699-45b2-ad75-8fe97e9a57db"
      },
      "source": [
        "%%time\n",
        "texts=[clean(t) for t in texts]"
      ],
      "execution_count": null,
      "outputs": [
        {
          "output_type": "stream",
          "text": [
            "Wall time: 1min 56s\n"
          ],
          "name": "stdout"
        }
      ]
    },
    {
      "cell_type": "markdown",
      "metadata": {
        "id": "6zwPDc0vXnQP"
      },
      "source": [
        "Checando o mesmo texto de forma limpa:"
      ]
    },
    {
      "cell_type": "code",
      "metadata": {
        "id": "kEhRoA73XnQR",
        "outputId": "8a48d947-5f09-4b38-d3fd-5ab92ff0a736"
      },
      "source": [
        "texts[0]"
      ],
      "execution_count": null,
      "outputs": [
        {
          "output_type": "execute_result",
          "data": {
            "text/plain": [
              "'i admit the great majority of films released before say <number> are just not for me of the dozen or so major silents i have viewed one i loved the crowd and two were very good the last command and city lights that latter chaplin circa <number> so i was apprehensive about this one and humor is often difficult to appreciate uh enjoy decades later i did like the lead actors but thought little of the film one intriguing sequence early on the guys are supposed to get deloused and for about three minutes fully dressed do some schtick in the background perhaps three dozen men pass by all naked white and black wwi and for most their butts part or full backside are shown was this an early variation of beefcake courtesy of howard hughes'"
            ]
          },
          "metadata": {
            "tags": []
          },
          "execution_count": 11
        }
      ]
    },
    {
      "cell_type": "markdown",
      "metadata": {
        "id": "VlFhAHIUXnQa"
      },
      "source": [
        "Tokenizando os textos:"
      ]
    },
    {
      "cell_type": "code",
      "metadata": {
        "id": "x2KCwH8qXnQc"
      },
      "source": [
        "tokens=[t.split() for t in texts]"
      ],
      "execution_count": null,
      "outputs": []
    },
    {
      "cell_type": "markdown",
      "metadata": {
        "id": "q10xPtwFXnQg"
      },
      "source": [
        "Vendo o mesmo texto, mas dessa vez tokenizado:"
      ]
    },
    {
      "cell_type": "code",
      "metadata": {
        "id": "wiAsoz4LXnQi",
        "outputId": "b4d7f1ea-e009-4066-aea1-a8a2aef9e377"
      },
      "source": [
        "tokens[0][:20]"
      ],
      "execution_count": null,
      "outputs": [
        {
          "output_type": "execute_result",
          "data": {
            "text/plain": [
              "['i',\n",
              " 'admit',\n",
              " 'the',\n",
              " 'great',\n",
              " 'majority',\n",
              " 'of',\n",
              " 'films',\n",
              " 'released',\n",
              " 'before',\n",
              " 'say',\n",
              " '<number>',\n",
              " 'are',\n",
              " 'just',\n",
              " 'not',\n",
              " 'for',\n",
              " 'me',\n",
              " 'of',\n",
              " 'the',\n",
              " 'dozen',\n",
              " 'or']"
            ]
          },
          "metadata": {
            "tags": []
          },
          "execution_count": 13
        }
      ]
    },
    {
      "cell_type": "markdown",
      "metadata": {
        "id": "LjAgdLXEXnQq"
      },
      "source": [
        "### O modelo Doc2Vec\n",
        "\n",
        "Vamos fazer uma breve introdução ao modelo **Doc2Vec** para a a geração de representações de textos (embeddings) de uma forma fácil e rápida. O modelo **Doc2Vec** é do ano de 2014 e foi descrito pela primeira por pesquisadores do Google no artigo [1] - as duas últimas imagens utilizadas a seguir foram retiradas deste artigo - infelizmente não encontrei a fonte da primeira imagem. \n",
        "\n",
        "Um tutorial bem didático de como a técnica funciona pode ser acessado no link [2] e a documentação do método está em [3]. Antes de explicar como é o funcionamento do modelo **Doc2Vec** é necessário entender como o modelo **Word2Vec**, para o cálculo de representações para palavras, funciona. O modelo **Word2Vec** é um modelo que gera representações vetoriais para palavras de acordo com os contextos em que as palavras aparecem nos textos da nossa base de dados. Dessa maneira é possível pensar que a palavra 'rei' está para 'homem' assim como 'rainha' está para 'mulher' como na figura abaixo:\n",
        "\n",
        "<figure>\n",
        "<center>\n",
        "<img src='https://raw.githubusercontent.com/felipemaiapolo/hands-on_ic_ml/master/word2vec.png' />\n",
        "</center>\n",
        "</figure>\n",
        "\n",
        "É impressionante ver o poder de uma técnica relativamente simples que é o **Word2Vec**. Existem basicamente duas versões de modelos para o **Word2Vec**, a COBW (Continuous Bag of Words) e Skip-Gram - aqui focaremos basicamente na primeira abordagem. A abordagem COBW considera que a posição das palavras podem ser preditas pelo contextos nas quais estão inseridas (palavras no entorno). Chamamos esse contexto de 'janela'. Todas as palavras do vocabulário começam com uma representação aleatória que o modelo melhora de acordo com o processo de aprendizagem ao tentar predizer a presença de palavras pelos contextos nos quais estão inseridas. Assim cada palavra adquire uma representação compatível com os contextos em que geralmente essa palavra aparece. Temos então o seguinte esquema para uma implementação do **Word2Vec** COBW:\n",
        "\n",
        "<figure>\n",
        "<center>\n",
        "<img src='https://raw.githubusercontent.com/felipemaiapolo/hands-on_ic_ml/master/word2vec2.png' />\n",
        "</center>\n",
        "</figure>\n",
        "\n",
        "Agora que entendemos um pouco melhor como funciona o modelo **Word2Vec**, podemos entender como é o funcionamento do **Doc2Vec**. O segundo modelo acaba sendo uma extensão do primeiro. Assim como o **Word2Vec**, o modelo **Doc2Vec** tem duas versões principais e aqui focaremos naquela análoga ao COBW, que se chama PV-DM (Distributed Memory version of Paragraph Vector). A ideia continua igual, no entanto adicionamos um vetor específico para cada um dos documentos a fim de predizer as palavras daquele documento específico. Quando formos treinar o modelo **Doc2vec** basta fornecermos os parâmetros 'window' (para o tamanho da janela) e 'size' para o tamanho dos embeddings (representações dos textos).\n",
        "\n",
        "<figure>\n",
        "<center>\n",
        "<img src='https://raw.githubusercontent.com/felipemaiapolo/hands-on_ic_ml/master/doc2vec.png' />\n",
        "</center>\n",
        "</figure>\n",
        "\n",
        "Fontes:\n",
        "\n",
        "1. Le, Q., & Mikolov, T. (2014, January). Distributed representations of sentences and documents. In International conference on machine learning (pp. 1188-1196). \n",
        "Link: https://cs.stanford.edu/~quocle/paragraph_vector.pdf\n",
        "2. https://medium.com/scaleabout/a-gentle-introduction-to-doc2vec-db3e8c0cce5e\n",
        "3. https://radimrehurek.com/gensim/models/doc2vec.html"
      ]
    },
    {
      "cell_type": "markdown",
      "metadata": {
        "id": "x-Ymx88ZXnQs"
      },
      "source": [
        "### Treinando Doc2Vec"
      ]
    },
    {
      "cell_type": "markdown",
      "metadata": {
        "id": "vCYBf6R3XnQu"
      },
      "source": [
        "Especificando hiperparâmetros para treinar modelo Doc2Vec. Neste caso 'window' se refere à distância máxima (em número de palavras) entre as palavras a serem inferidas e aquelas consideradas de contexto."
      ]
    },
    {
      "cell_type": "code",
      "metadata": {
        "collapsed": true,
        "id": "PswrigEEXnQv"
      },
      "source": [
        "size=50\n",
        "window=10"
      ],
      "execution_count": null,
      "outputs": []
    },
    {
      "cell_type": "markdown",
      "metadata": {
        "id": "FG8b4hkjXnQ1"
      },
      "source": [
        "Treinando modelo:"
      ]
    },
    {
      "cell_type": "code",
      "metadata": {
        "id": "tj5QW1HZXnQ2",
        "outputId": "5039ede5-1f66-4d5d-b18d-372f045cd4f8"
      },
      "source": [
        "%%time\n",
        "\n",
        "documents = [TaggedDocument(doc, [i]) for i, doc in enumerate(tokens)]\n",
        "model = Doc2Vec(documents, vector_size=size, window=window, dm_mean=1, epochs=10)"
      ],
      "execution_count": null,
      "outputs": [
        {
          "output_type": "stream",
          "text": [
            "Wall time: 5min 4s\n"
          ],
          "name": "stdout"
        }
      ]
    },
    {
      "cell_type": "markdown",
      "metadata": {
        "id": "nw25x64jXnQ9"
      },
      "source": [
        "Salvando modelo em disco:"
      ]
    },
    {
      "cell_type": "code",
      "metadata": {
        "collapsed": true,
        "id": "ix7u59z1XnQ-"
      },
      "source": [
        "model.save('models/doc2vec')"
      ],
      "execution_count": null,
      "outputs": []
    },
    {
      "cell_type": "markdown",
      "metadata": {
        "id": "z0LCScXlXnRB"
      },
      "source": [
        "### Utilizando o modelo Doc2Vec pré-treinado"
      ]
    },
    {
      "cell_type": "markdown",
      "metadata": {
        "id": "F982vB6iXnRC"
      },
      "source": [
        "Carregando modelo:"
      ]
    },
    {
      "cell_type": "code",
      "metadata": {
        "id": "gV88j-JZXnRD"
      },
      "source": [
        "d2v = Doc2Vec.load('models/doc2vec')  "
      ],
      "execution_count": null,
      "outputs": []
    },
    {
      "cell_type": "markdown",
      "metadata": {
        "id": "FDnRzWcTXnRH"
      },
      "source": [
        "A inferência do vetor para um texto específico é feita utilizando a descida pela gradiente, congelando a rede neural do Doc2Vec e atualizando somente os pesos referentes ao novo texto. Na função abaixo, fixamos uma semente (*seed*) afim de garantir resultados reprodutíveis e definimos que a descida pelo gradiente dê 20 passos.\n",
        "\n",
        "Definindo função que fará o embedding:"
      ]
    },
    {
      "cell_type": "code",
      "metadata": {
        "id": "1U7Gt5xJXnRH"
      },
      "source": [
        "def emb(string, model, normalize=False): \n",
        "    model.random.seed(42)\n",
        "    x=model.infer_vector(string, steps=20)\n",
        "    \n",
        "    if normalize: return(x/np.sqrt(x@x))\n",
        "    else: return(x)"
      ],
      "execution_count": null,
      "outputs": []
    },
    {
      "cell_type": "markdown",
      "metadata": {
        "id": "_QtNRNa-XnRP"
      },
      "source": [
        "Obtendo o embedding de um texto tokenizado:"
      ]
    },
    {
      "cell_type": "code",
      "metadata": {
        "id": "D1jJfWNvXnRQ",
        "outputId": "ca76499a-13e7-4114-9104-fdb981dc139c"
      },
      "source": [
        "emb(tokens[0], d2v)"
      ],
      "execution_count": null,
      "outputs": [
        {
          "output_type": "execute_result",
          "data": {
            "text/plain": [
              "array([-0.5025875 , -0.3447058 ,  0.13436049,  0.39018333, -0.10440361,\n",
              "        0.11720716, -0.08191961, -0.46607956, -0.6303297 ,  0.5215501 ,\n",
              "        0.04060352, -1.1570293 , -0.5104716 , -0.33255166, -0.12884223,\n",
              "       -0.07033547,  0.30809197,  0.5168081 ,  0.07482839, -1.0800563 ,\n",
              "        0.19084787, -0.7333135 ,  0.38773566,  0.2852471 ,  0.26840484,\n",
              "       -0.29038674, -0.63251245, -0.26511842,  0.48513424,  0.19414012,\n",
              "        0.3566959 , -0.93202865,  0.5822806 , -1.0152892 , -0.85993165,\n",
              "       -0.3172352 , -0.18244594,  1.3446668 , -0.47776607,  0.39075905,\n",
              "       -0.38342026, -0.00394523, -0.27024877, -0.43286872,  0.99878204,\n",
              "        1.2279924 ,  0.384848  , -0.32819253, -0.3062895 , -0.3418168 ],\n",
              "      dtype=float32)"
            ]
          },
          "metadata": {
            "tags": []
          },
          "execution_count": 19
        }
      ]
    },
    {
      "cell_type": "markdown",
      "metadata": {
        "id": "_mxcmz5nXnRW"
      },
      "source": [
        "#### Rrepresentações vetoriais para palavras\n",
        "\n",
        "Um bônus em treinar um modelo Doc2Vec é que também temos necessariamento as representações para palavras (Word2Vec) que aparecem nos textos. \n",
        "\n",
        "Vamos ver uma delas:"
      ]
    },
    {
      "cell_type": "code",
      "metadata": {
        "id": "S2ISmUjiXnRX",
        "outputId": "6761e899-7a4b-4cea-c7d5-bf1b7df5a127"
      },
      "source": [
        "d2v['good']"
      ],
      "execution_count": null,
      "outputs": [
        {
          "output_type": "execute_result",
          "data": {
            "text/plain": [
              "array([-1.1557218 , -1.7600553 ,  1.2216235 ,  1.8812038 ,  0.68748534,\n",
              "       -0.30647802,  2.5037978 , -1.6115426 , -1.4925867 ,  0.51079017,\n",
              "        0.85061383, -1.8082415 ,  2.392079  , -0.5213814 ,  1.9120603 ,\n",
              "       -2.0093987 , -0.7510775 ,  1.9731916 ,  0.36109957,  2.5094054 ,\n",
              "        3.0984154 ,  3.5720563 ,  1.1022336 , -2.4284034 ,  4.692224  ,\n",
              "       -1.7945781 , -1.3926803 ,  3.40962   , -3.933829  ,  2.2905967 ,\n",
              "       -2.8715951 , -0.08206151,  0.7903915 ,  0.28308663,  3.3633626 ,\n",
              "        0.15981482,  0.5859061 ,  0.5542446 ,  0.9774504 ,  0.5237442 ,\n",
              "       -3.187714  , -0.11170991, -2.251723  ,  1.9839427 , -0.94994795,\n",
              "        0.370625  , -4.0769844 ,  2.6183748 , -1.4141436 , -0.5556728 ],\n",
              "      dtype=float32)"
            ]
          },
          "metadata": {
            "tags": []
          },
          "execution_count": 20
        }
      ]
    },
    {
      "cell_type": "markdown",
      "metadata": {
        "id": "4J-FT_w3XnRn"
      },
      "source": [
        "### Aplicação: Similaridade entre Textos"
      ]
    },
    {
      "cell_type": "markdown",
      "metadata": {
        "id": "ArlgfTpuXnRo"
      },
      "source": [
        "No contexto de NLP é comum utilizarmos a similaridade de cossenos para compararmos dois textos. É importante recordar que em nosso contexto, cada um dos textos é tratado como um vetor com comprimento, direção e sentido. Um vetor será expresso aqui na forma de matrizes unidimensionais (Numpy arrays). Um vetor de tamanho $n$ é uma lista de valores em forma matricial da seguinte forma:\n",
        "\n",
        "\\begin{equation}\n",
        "  \\begin{aligned}\n",
        "      \\mathbf{x}=\\begin{pmatrix} x_1 \n",
        "      \\\\ x_2\n",
        "      \\\\ ...\n",
        "      \\\\ x_n\n",
        "     \\end{pmatrix}\n",
        "   \\end{aligned}\n",
        "\\end{equation}\n",
        "\n",
        "Assumindo que outro vetor $\\mathbf{y}$ tenha o mesmo tamanho de $\\mathbf{x}$, o cosseno do ângulo ($\\theta$) entre os vetores é calculado da seguinte forma:\n",
        "\n",
        "\\begin{equation}\n",
        "  \\begin{aligned}\n",
        "      cos(\\theta)=\\frac{\\sum_{i=1}^{n}x_iy_i }{\\sqrt{\\sum_{i=1}^{n}x_i^2}\\sqrt{\\sum_{i=1}^{n}y_i^2}}=\n",
        "      \\frac{\\mathbf{x}^T\\mathbf{y}}{\\sqrt{\\mathbf{x}^T\\mathbf{x}}.\\sqrt{\\mathbf{y}^T\\mathbf{y}}}=\n",
        "      \\frac{\\mathbf{x}^T\\mathbf{y}}{\\left \\| \\mathbf{x} \\right \\|.\\left \\| \\mathbf{y} \\right \\|}\n",
        "   \\end{aligned}\n",
        "\\end{equation}\n",
        "\n",
        "Se o comprimento dos vetores $\\mathbf{y}$ e $\\mathbf{x}$ é um, então podemos reescrever o cosseno da seguinte forma:\n",
        "\n",
        "\\begin{equation}\n",
        "  \\begin{aligned}\n",
        "      cos(\\theta)=\\sum_{i=1}^{n}x_iy_i=\n",
        "      \\mathbf{x}^T\\mathbf{y}\n",
        "   \\end{aligned}\n",
        "\\end{equation}\n",
        "\n",
        "Para normalizar um vetor $\\mathbf{x}$ para que tenha comprimento 1, basta fazer a seguinte atualização:\n",
        "\n",
        "\\begin{equation}\n",
        "  \\begin{aligned}\n",
        "      \\mathbf{x}\\leftarrow \\frac{\\mathbf{x}}{\\sqrt{\\mathbf{x}^T\\mathbf{x}}}\n",
        "   \\end{aligned}\n",
        "\\end{equation}"
      ]
    },
    {
      "cell_type": "markdown",
      "metadata": {
        "id": "cnOAxX0lXnRp"
      },
      "source": [
        "Para entender melhor, vamos definir uma função que calcula a similaridade entre dois vetores. A similaridade (cosseno) varia de -1 a 1 sendo que valores positivos indicam que os vetores têm o mesmo sentido e valores negativos nos dizem que os vetores têm sentidos opostos:"
      ]
    },
    {
      "cell_type": "code",
      "metadata": {
        "id": "uBWH7a6CXnRr"
      },
      "source": [
        "def simil(x,y):\n",
        "    return((x@y)/np.sqrt((x@x)*(y@y)))"
      ],
      "execution_count": null,
      "outputs": []
    },
    {
      "cell_type": "markdown",
      "metadata": {
        "id": "MdbAKmQiXnRz"
      },
      "source": [
        "Definindo dois vetores e os visualizando:\n",
        "\n",
        "> **Atenção**: se tiver problemas ao plotar o gráfico abaixo, tentar adaptar o código para\n",
        "\n",
        "> ```\n",
        "V = np.array([v1,v2])\n",
        "O=np.array([[0],[0]])\n",
        "plt.quiver(O[:],O[:],V[:,0],V[:,1], color=['r','g','b'], scale=10)\n",
        "plt.show()\n",
        "```\n",
        "\n",
        "> Também é possível adaptar o parâmetro `scale`.\n",
        "\n"
      ]
    },
    {
      "cell_type": "markdown",
      "metadata": {
        "id": "ZQy7GjafbotF"
      },
      "source": [
        "\n",
        "\n",
        "\n",
        "\n"
      ]
    },
    {
      "cell_type": "code",
      "metadata": {
        "id": "KGq_RlEEXnR0",
        "outputId": "b994cfb5-45d4-4997-a0af-076f804a961b"
      },
      "source": [
        "v1=np.array([2,2])\n",
        "v2=np.array([2,2.5])\n",
        "\n",
        "V = np.array([v1,v2])\n",
        "origin = [0], [0] # origin point\n",
        "\n",
        "plt.quiver(*origin, V[:,0], V[:,1], color=['r','b','g'], scale=10)\n",
        "plt.show()"
      ],
      "execution_count": null,
      "outputs": [
        {
          "output_type": "display_data",
          "data": {
            "image/png": "[encoded data removed]",
            "text/plain": [
              "<Figure size 432x288 with 1 Axes>"
            ]
          },
          "metadata": {
            "tags": []
          }
        }
      ]
    },
    {
      "cell_type": "markdown",
      "metadata": {
        "id": "ddj4CBDKXnR4"
      },
      "source": [
        "Veja que o menor ângulo entre os vetores é pequeno então a similaridade deve dar algo próximo de 1:"
      ]
    },
    {
      "cell_type": "code",
      "metadata": {
        "id": "7HSAl7rcXnR5",
        "outputId": "1f0cb104-e56b-43aa-ef30-c30f92124ebe"
      },
      "source": [
        "simil(v1,v2)"
      ],
      "execution_count": null,
      "outputs": [
        {
          "output_type": "execute_result",
          "data": {
            "text/plain": [
              "0.9938837346736188"
            ]
          },
          "metadata": {
            "tags": []
          },
          "execution_count": 23
        }
      ]
    },
    {
      "cell_type": "markdown",
      "metadata": {
        "id": "8g3x-X3SXnR-"
      },
      "source": [
        "Veja que o cosseno entre os vetores não depende do tamanho dos vetores. Vamos manter o ângulo mas diminuindo o tamanho do vetor vermelho:"
      ]
    },
    {
      "cell_type": "code",
      "metadata": {
        "id": "xCvbOxhRXnSB",
        "outputId": "cd57b698-148f-4d6d-e53c-6413f908b805"
      },
      "source": [
        "v1=np.array([1,1])\n",
        "v2=np.array([2,2.5])\n",
        "\n",
        "V = np.array([v1,v2])\n",
        "origin = [0], [0] # origin point\n",
        "\n",
        "plt.quiver(*origin, V[:,0], V[:,1], color=['r','b','g'], scale=10)\n",
        "plt.show()"
      ],
      "execution_count": null,
      "outputs": [
        {
          "output_type": "display_data",
          "data": {
            "image/png": "[encoded data removed]",
            "text/plain": [
              "<Figure size 432x288 with 1 Axes>"
            ]
          },
          "metadata": {
            "tags": []
          }
        }
      ]
    },
    {
      "cell_type": "markdown",
      "metadata": {
        "id": "5kmNAuw0XnSF"
      },
      "source": [
        "Veja que a medida de similaridade não mudou:"
      ]
    },
    {
      "cell_type": "code",
      "metadata": {
        "id": "dIcVfGI-XnSG",
        "outputId": "1eea75c6-c5ec-43cc-96c9-0ff1f50a4c58"
      },
      "source": [
        "simil(v1,v2)"
      ],
      "execution_count": null,
      "outputs": [
        {
          "output_type": "execute_result",
          "data": {
            "text/plain": [
              "0.9938837346736188"
            ]
          },
          "metadata": {
            "tags": []
          },
          "execution_count": 25
        }
      ]
    },
    {
      "cell_type": "markdown",
      "metadata": {
        "id": "sJlJAtc_XnSM"
      },
      "source": [
        "Se os vetores formam 90 graus entre si, temos que eles são ortogonais (não tem similaridade alguma entre si):"
      ]
    },
    {
      "cell_type": "code",
      "metadata": {
        "id": "yDvy8ukhXnSO",
        "outputId": "492fa471-8b87-483d-b15a-94bbeb148ff3"
      },
      "source": [
        "v1=np.array([-5,4])\n",
        "v2=np.array([2,2.5])\n",
        "\n",
        "V = np.array([v1,v2])\n",
        "origin = [0], [0] # origin point\n",
        "\n",
        "plt.quiver(*origin, V[:,0], V[:,1], color=['r','b','g'], scale=15)\n",
        "plt.show()"
      ],
      "execution_count": null,
      "outputs": [
        {
          "output_type": "display_data",
          "data": {
            "image/png": "[encoded data removed]",
            "text/plain": [
              "<Figure size 432x288 with 1 Axes>"
            ]
          },
          "metadata": {
            "tags": []
          }
        }
      ]
    },
    {
      "cell_type": "markdown",
      "metadata": {
        "id": "aWgkR-BsXnSU"
      },
      "source": [
        "Calculando a similaridade:"
      ]
    },
    {
      "cell_type": "code",
      "metadata": {
        "id": "qQWnA91NXnSU",
        "outputId": "9ab8d8c7-98ac-44c5-ae5d-43d72b390cba"
      },
      "source": [
        "simil(v1,v2)"
      ],
      "execution_count": null,
      "outputs": [
        {
          "output_type": "execute_result",
          "data": {
            "text/plain": [
              "0.0"
            ]
          },
          "metadata": {
            "tags": []
          },
          "execution_count": 27
        }
      ]
    },
    {
      "cell_type": "markdown",
      "metadata": {
        "id": "rZM3AJqGXnSa"
      },
      "source": [
        "Já se o menor ângulo entre os vetores é maior que 90 graus, ou seja, os vetores estão 'apontando' para sentidos opostos, a similaridade é negativa:"
      ]
    },
    {
      "cell_type": "code",
      "metadata": {
        "id": "WUqLatQFXnSb",
        "outputId": "211d299b-6ea0-4041-dc14-f53764dd4b17"
      },
      "source": [
        "v1=np.array([-6,1])\n",
        "v2=np.array([2,-2.5])\n",
        "\n",
        "V = np.array([v1,v2])\n",
        "origin = [0], [0] # origin point\n",
        "\n",
        "plt.quiver(*origin, V[:,0], V[:,1], color=['r','b','g'], scale=15)\n",
        "plt.show()"
      ],
      "execution_count": null,
      "outputs": [
        {
          "output_type": "display_data",
          "data": {
            "image/png": "[encoded data removed]",
            "text/plain": [
              "<Figure size 432x288 with 1 Axes>"
            ]
          },
          "metadata": {
            "tags": []
          }
        }
      ]
    },
    {
      "cell_type": "markdown",
      "metadata": {
        "id": "2A_oamBnXnSp"
      },
      "source": [
        "Similaridade:"
      ]
    },
    {
      "cell_type": "code",
      "metadata": {
        "id": "xXglMsZ7XnSs",
        "outputId": "7f42e4bc-1bf6-41e6-e213-2d2e35aab9e4"
      },
      "source": [
        "simil(v1,v2)"
      ],
      "execution_count": null,
      "outputs": [
        {
          "output_type": "execute_result",
          "data": {
            "text/plain": [
              "-0.7445694406464903"
            ]
          },
          "metadata": {
            "tags": []
          },
          "execution_count": 29
        }
      ]
    },
    {
      "cell_type": "markdown",
      "metadata": {
        "id": "Xv2sSaAKXnS3"
      },
      "source": [
        "#### Dados Reais"
      ]
    },
    {
      "cell_type": "markdown",
      "metadata": {
        "id": "UhCYIUtAXnS4"
      },
      "source": [
        "Vamos transformar alguns dos textos tokenizados em um numpy array, em que cada linha representa um texto diferente. Vamos 'setar' a opção <code>normalize=TRUE</code>, pois tendo vetores com norma euclidiana unitária é mais fácil calcular as similaridades de cosseno:"
      ]
    },
    {
      "cell_type": "code",
      "metadata": {
        "id": "cxnHyGCjXnS5",
        "outputId": "9f9889c2-efbc-4212-accc-a6d6507b1cdf"
      },
      "source": [
        "%%time\n",
        "X = [emb(x, d2v, normalize=True) for x in tokens[:100]] \n",
        "X = np.array(X)"
      ],
      "execution_count": null,
      "outputs": [
        {
          "output_type": "stream",
          "text": [
            "Wall time: 2.87 s\n"
          ],
          "name": "stdout"
        }
      ]
    },
    {
      "cell_type": "markdown",
      "metadata": {
        "id": "BwZBlS-_XnTB"
      },
      "source": [
        "Vamos calcular as similaridades de alguns textos com eles mesmos:"
      ]
    },
    {
      "cell_type": "code",
      "metadata": {
        "collapsed": true,
        "id": "FUKMuYhhXnTC"
      },
      "source": [
        "similaridade=X@X.T"
      ],
      "execution_count": null,
      "outputs": []
    },
    {
      "cell_type": "markdown",
      "metadata": {
        "id": "xElRP9_xXnTK"
      },
      "source": [
        "Vamos visualizar essa matriz na forma de um heatmap:"
      ]
    },
    {
      "cell_type": "code",
      "metadata": {
        "id": "LpNVoXeaXnTL",
        "outputId": "57c9428e-de4c-4aaf-cabb-45544e51ddf7"
      },
      "source": [
        "sns.heatmap(similaridade, cmap=\"Greys\")\n",
        "\n",
        "plt.ylabel('Textos')\n",
        "plt.xlabel('Textos')\n",
        "plt.show()"
      ],
      "execution_count": null,
      "outputs": [
        {
          "output_type": "display_data",
          "data": {
            "image/png": "[encoded data removed]",
            "text/plain": [
              "<Figure size 432x288 with 2 Axes>"
            ]
          },
          "metadata": {
            "tags": []
          }
        }
      ]
    },
    {
      "cell_type": "markdown",
      "metadata": {
        "id": "Ejkk6oBHXnTY"
      },
      "source": [
        "Como esperado a diagonal principal está cheia de uns :)\n",
        "\n",
        "Veja que calcular similaridades entre textos é uma coisa muito importante e que pode ser útil se quisermos criar clusters de textos ou utilizar algoritmos supervisionados que necessitam de uma medida para semelhança entre instâncias, e.g. KNN."
      ]
    },
    {
      "cell_type": "markdown",
      "metadata": {
        "id": "a6UCC7UoXnTa"
      },
      "source": [
        "#### Clustering"
      ]
    },
    {
      "cell_type": "markdown",
      "metadata": {
        "id": "h68qDrCcXnTb"
      },
      "source": [
        "Vamos criar dois clusters de textos utilizando clusterização espectral:"
      ]
    },
    {
      "cell_type": "code",
      "metadata": {
        "collapsed": true,
        "id": "2Em6KYlHXnTc"
      },
      "source": [
        "clustering = SpectralClustering(n_clusters=2, affinity='precomputed', random_state=0).fit(similaridade+1)"
      ],
      "execution_count": null,
      "outputs": []
    },
    {
      "cell_type": "markdown",
      "metadata": {
        "id": "g42g-vfSXnTj"
      },
      "source": [
        "Somamos 1 às similaridades pois o algoritmo não aceita valores negativos.\n",
        "\n",
        "Vendo labels:"
      ]
    },
    {
      "cell_type": "code",
      "metadata": {
        "id": "I80yX_D1XnTk",
        "outputId": "6a5a5024-7e80-421f-898c-f2baca041b5a"
      },
      "source": [
        "clustering.labels_"
      ],
      "execution_count": null,
      "outputs": [
        {
          "output_type": "execute_result",
          "data": {
            "text/plain": [
              "array([1, 1, 1, 0, 0, 0, 0, 0, 0, 0, 0, 1, 0, 0, 0, 0, 0, 0, 0, 0, 0, 0,\n",
              "       1, 0, 0, 0, 0, 0, 0, 0, 0, 0, 0, 1, 0, 0, 0, 1, 0, 1, 1, 1, 1, 1,\n",
              "       1, 0, 1, 0, 1, 1, 1, 1, 0, 1, 1, 1, 1, 1, 1, 1, 1, 0, 1, 1, 1, 0,\n",
              "       1, 0, 1, 1, 1, 1, 1, 1, 1, 1, 1, 1, 1, 1, 1, 1, 1, 1, 1, 1, 1, 1,\n",
              "       1, 1, 1, 1, 1, 1, 1, 1, 1, 1, 1, 0])"
            ]
          },
          "metadata": {
            "tags": []
          },
          "execution_count": 34
        }
      ]
    },
    {
      "cell_type": "markdown",
      "metadata": {
        "id": "g0l_d5mOXnTy"
      },
      "source": [
        "Agora vamos garantir que textos do mesmo cluster fiquem lado a lado:"
      ]
    },
    {
      "cell_type": "code",
      "metadata": {
        "collapsed": true,
        "id": "RPagChT8XnT0"
      },
      "source": [
        "X=X[np.argsort(clustering.labels_)]"
      ],
      "execution_count": null,
      "outputs": []
    },
    {
      "cell_type": "markdown",
      "metadata": {
        "id": "iTKNV_G0XnT9"
      },
      "source": [
        "Recalculando as similaridades:"
      ]
    },
    {
      "cell_type": "code",
      "metadata": {
        "collapsed": true,
        "id": "03yVq9_IXnT-"
      },
      "source": [
        "similaridade=X@X.T"
      ],
      "execution_count": null,
      "outputs": []
    },
    {
      "cell_type": "markdown",
      "metadata": {
        "id": "8ooK-kOHXnUE"
      },
      "source": [
        "Plotando:"
      ]
    },
    {
      "cell_type": "code",
      "metadata": {
        "id": "xLFixurnXnUF",
        "outputId": "90c3bbcd-aeff-48ff-a95c-a27e5058b342"
      },
      "source": [
        "sns.heatmap(similaridade, cmap=\"Greys\")\n",
        "\n",
        "plt.ylabel('Textos')\n",
        "plt.xlabel('Textos')\n",
        "plt.show()"
      ],
      "execution_count": null,
      "outputs": [
        {
          "output_type": "display_data",
          "data": {
            "image/png": "[encoded data removed]",
            "text/plain": [
              "<Figure size 432x288 with 2 Axes>"
            ]
          },
          "metadata": {
            "tags": []
          }
        }
      ]
    },
    {
      "cell_type": "markdown",
      "metadata": {
        "id": "bLralRmmXnUM"
      },
      "source": [
        "É possível ver que temos um cluster muito bem definido, enquanto o outro não está tão bem definido assim."
      ]
    }
  ]
}