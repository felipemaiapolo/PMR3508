{
  "nbformat": 4,
  "nbformat_minor": 0,
  "metadata": {
    "kernelspec": {
      "display_name": "Python 3",
      "language": "python",
      "name": "python3"
    },
    "language_info": {
      "codemirror_mode": {
        "name": "ipython",
        "version": 3
      },
      "file_extension": ".py",
      "mimetype": "text/x-python",
      "name": "python",
      "nbconvert_exporter": "python",
      "pygments_lexer": "ipython3",
      "version": "3.5.2"
    },
    "colab": {
      "name": "tensorflow-keras.ipynb",
      "provenance": [],
      "include_colab_link": true
    }
  },
  "cells": [
    {
      "cell_type": "markdown",
      "metadata": {
        "id": "view-in-github",
        "colab_type": "text"
      },
      "source": [
        "<a href=\"https://colab.research.google.com/github/felipemaiapolo/analise_sentimentos_PMR3508/blob/main/tensorflow_keras.ipynb\" target=\"_parent\"><img src=\"https://colab.research.google.com/assets/colab-badge.svg\" alt=\"Open In Colab\"/></a>"
      ]
    },
    {
      "cell_type": "markdown",
      "metadata": {
        "id": "ocvkcpuCXjqT"
      },
      "source": [
        "# Redes Neurais Artificiais com Tensorflow 2 e Keras\n",
        "\n",
        "#### Disciplina: PMR3508 - Aprendizado de Máquina e Reconhecimento de Padrões\n",
        "\n",
        "O objetivo deste notebook é a sua introdução ao pacote Tensorflow para o treinamento de redes neurais. O Tensorflow é uma das principais ferramentas para a implementação de modelos de *Deep Learning* em Python. Suas versões mais recentes (>= 2.0) já integram o Keras, que em versões passadas era utilizado de forma separada. O Keras, por sua vez, é uma ferramenta que permite a implementação de modelos complexos de forma simples e rápida. Por esse motivo, utilizaremos o Keras nessa demonstração.\n",
        "\n",
        "Nesta demonstração implementaremos uma rede neural MLP com duas camadas ocultas para a classificação de tumores em malignos ou benignos. A base de dados utilizada chama-se \"Breast Cancer\" e está disponível para download no pacote Scikit-Learn.\n",
        "\n",
        "Antes de começar, certifique-se de que você tem o Tensorflow instalado em sua máquina e se sua versão é recente (>= 2.0). Se houver a necessidade de instalar o Tensorflow, utilize as seguintes instruções https://www.tensorflow.org/install.\n",
        "\n",
        "\n",
        "\n",
        "> **Atenção**: caso tenha problema em rodar o Tensorflow mesmo após a instalação, tente atualizar o Visual C++ e veja se resolve (https://support.microsoft.com/en-us/help/2977003/the-latest-supported-visual-c-downloads).\n",
        "\n",
        "\n"
      ]
    },
    {
      "cell_type": "markdown",
      "metadata": {
        "id": "QCKURjM7XjqV"
      },
      "source": [
        "### Iniciando..."
      ]
    },
    {
      "cell_type": "markdown",
      "metadata": {
        "id": "QT_O3gf9XjqY"
      },
      "source": [
        "Configurando sementes para reprodutibilidade dos resultados:"
      ]
    },
    {
      "cell_type": "code",
      "metadata": {
        "id": "B2wDtprGXjqZ"
      },
      "source": [
        "seed=42\n",
        "\n",
        "import numpy as np\n",
        "np.random.seed(seed)\n",
        "\n",
        "import random \n",
        "random.seed(seed)\n",
        "\n",
        "import tensorflow as tf\n",
        "tf.random.set_seed(seed)"
      ],
      "execution_count": null,
      "outputs": []
    },
    {
      "cell_type": "markdown",
      "metadata": {
        "id": "GzjQpYH_Xjqi"
      },
      "source": [
        "Checando a versão que tenho instalada:"
      ]
    },
    {
      "cell_type": "code",
      "metadata": {
        "id": "NH_wByVVXjql",
        "outputId": "2b63d0a8-58f1-473b-bdd0-7db401f0f0e7"
      },
      "source": [
        "print(tf.__version__)"
      ],
      "execution_count": null,
      "outputs": [
        {
          "output_type": "stream",
          "text": [
            "2.3.1\n"
          ],
          "name": "stdout"
        }
      ]
    },
    {
      "cell_type": "markdown",
      "metadata": {
        "id": "IHTFk7UcXjq0"
      },
      "source": [
        "Importando pacotes que utilizaremos:"
      ]
    },
    {
      "cell_type": "code",
      "metadata": {
        "id": "YfDLqy5OXjq0"
      },
      "source": [
        "#Para o uso geral\n",
        "import pandas as pd\n",
        "import matplotlib.pyplot as plt\n",
        "\n",
        "#Importando funcionalidades do Scikit-Learn\n",
        "from sklearn.model_selection import train_test_split\n",
        "from sklearn.datasets import load_breast_cancer\n",
        "from sklearn.metrics import roc_auc_score\n",
        "\n",
        "#Importando funcionalidades do Tensorflow\n",
        "from tensorflow.keras import Sequential, regularizers\n",
        "from tensorflow.keras.layers import Dense\n",
        "from tensorflow.python.framework import ops\n",
        "from tensorflow.keras.callbacks import EarlyStopping"
      ],
      "execution_count": null,
      "outputs": []
    },
    {
      "cell_type": "markdown",
      "metadata": {
        "id": "ujvJgM-JXjq4"
      },
      "source": [
        "Abrindo dados no formato desejado:"
      ]
    },
    {
      "cell_type": "code",
      "metadata": {
        "id": "LIuGKz-VXjq5"
      },
      "source": [
        "X, y = load_breast_cancer(return_X_y=True)"
      ],
      "execution_count": null,
      "outputs": []
    },
    {
      "cell_type": "markdown",
      "metadata": {
        "id": "-EasfTIYXjq9"
      },
      "source": [
        "Destinando parte para teste e parte para treino:"
      ]
    },
    {
      "cell_type": "code",
      "metadata": {
        "id": "RBs4kqjPXjq-",
        "outputId": "0b73e755-6d72-4839-d093-c74878ccd8e3"
      },
      "source": [
        "X_train, X_test, y_train, y_test = train_test_split(X, y, stratify=y, test_size=0.25, random_state=seed)\n",
        "\n",
        "print(X_train.shape, X_test.shape, y_train.shape, y_test.shape)"
      ],
      "execution_count": null,
      "outputs": [
        {
          "output_type": "stream",
          "text": [
            "(426, 30) (143, 30) (426,) (143,)\n"
          ],
          "name": "stdout"
        }
      ]
    },
    {
      "cell_type": "markdown",
      "metadata": {
        "id": "gFQnj873XjrD"
      },
      "source": [
        "### Um primeiro modelo (*naive model*)"
      ]
    },
    {
      "cell_type": "markdown",
      "metadata": {
        "id": "SMW2dV1UXjrE"
      },
      "source": [
        "Agora vamos implementar nosso primeiro modelo. Para tal fim, utilizaremos a classe \"Sequential\", que talvez seja a maneira mais direta de criar redes neurais utilizando o Keras. Literalmente, é só ir colocando as camadas que queremos de forma sequencial, utilizando o método \"add\" após instanciarmos o modelo:"
      ]
    },
    {
      "cell_type": "code",
      "metadata": {
        "id": "NvX6dr8wXjrF"
      },
      "source": [
        "#Vamos pegar o número de features utilizadas\n",
        "n_features = X_train.shape[1]\n",
        "\n",
        "#Definindo nosso modelo\n",
        "model_naive = Sequential() #Instanciando um modelo com a classe \"Sequential\"\n",
        "model_naive.add(Dense(100, activation='relu', input_shape=(n_features,))) #Colocando a primeira camada oculta com 100 neurônios e função de ativação ReLU\n",
        "model_naive.add(Dense(100, activation='relu')) #Colocando a segunda camada oculta com 100 neurônios e função de ativação ReLU\n",
        "model_naive.add(Dense(1, activation='sigmoid')) #Colocando a camada de saída com função de ativação sigmoid"
      ],
      "execution_count": null,
      "outputs": []
    },
    {
      "cell_type": "markdown",
      "metadata": {
        "id": "fLD1EATrXjrJ"
      },
      "source": [
        "É possível inspecionar o número de pesos referentes a cada uma das camadas utilizando o método \"summary\":"
      ]
    },
    {
      "cell_type": "code",
      "metadata": {
        "id": "NoddPQeRXjrK",
        "outputId": "8baf1845-bb5d-4d67-8c02-a6d5b877c138"
      },
      "source": [
        "model_naive.summary()"
      ],
      "execution_count": null,
      "outputs": [
        {
          "output_type": "stream",
          "text": [
            "Model: \"sequential\"\n",
            "_________________________________________________________________\n",
            "Layer (type)                 Output Shape              Param #   \n",
            "=================================================================\n",
            "dense (Dense)                (None, 100)               3100      \n",
            "_________________________________________________________________\n",
            "dense_1 (Dense)              (None, 100)               10100     \n",
            "_________________________________________________________________\n",
            "dense_2 (Dense)              (None, 1)                 101       \n",
            "=================================================================\n",
            "Total params: 13,301\n",
            "Trainable params: 13,301\n",
            "Non-trainable params: 0\n",
            "_________________________________________________________________\n"
          ],
          "name": "stdout"
        }
      ]
    },
    {
      "cell_type": "markdown",
      "metadata": {
        "id": "WAL-S8k1XjrO"
      },
      "source": [
        "Agora que já definimos a arquitetura da rede neural, temos que compilar o modelo. Nesse estágio definimos (i) o algoritmo de otimização, (ii) função de perda e (iii) métricas para acompanharmos durante o treinamento:"
      ]
    },
    {
      "cell_type": "code",
      "metadata": {
        "id": "QXBRLXfyXjrO"
      },
      "source": [
        "model_naive.compile(optimizer='adam', loss='binary_crossentropy', metrics=[tf.keras.metrics.AUC()])"
      ],
      "execution_count": null,
      "outputs": []
    },
    {
      "cell_type": "markdown",
      "metadata": {
        "id": "kmY978u_XjrT"
      },
      "source": [
        "Agora vamos treinar o modelo. Precisamos definir algumas coisas como (i) o número de epochs, (ii) o tamanho dos batches e (iii) a fração de amostras destinadas a validação, a fim de acompanharmos as nossas métricas durante o treinamento:"
      ]
    },
    {
      "cell_type": "code",
      "metadata": {
        "id": "QAMctecDXjrT",
        "outputId": "481d6e16-f84b-49ac-84c8-ca61f9c1ec73"
      },
      "source": [
        "history = model_naive.fit(X_train, y_train, \n",
        "                          validation_split=.25,\n",
        "                          epochs=50, \n",
        "                          batch_size=96, \n",
        "                          shuffle=True, \n",
        "                          verbose=1)"
      ],
      "execution_count": null,
      "outputs": [
        {
          "output_type": "stream",
          "text": [
            "Epoch 1/50\n",
            "4/4 [==============================] - 2s 450ms/step - auc: 0.5069 - loss: 21.9412 - val_auc: 0.5000 - val_loss: 14.8910\n",
            "Epoch 2/50\n",
            "4/4 [==============================] - 0s 26ms/step - auc: 0.5100 - loss: 12.7246 - val_auc: 0.8172 - val_loss: 1.3542\n",
            "Epoch 3/50\n",
            "4/4 [==============================] - 0s 22ms/step - auc: 0.7019 - loss: 3.8302 - val_auc: 0.7125 - val_loss: 6.8585\n",
            "Epoch 4/50\n",
            "4/4 [==============================] - 0s 32ms/step - auc: 0.7768 - loss: 3.2125 - val_auc: 0.8493 - val_loss: 2.4908\n",
            "Epoch 5/50\n",
            "4/4 [==============================] - 0s 49ms/step - auc: 0.7798 - loss: 3.3216 - val_auc: 0.8662 - val_loss: 1.1098\n",
            "Epoch 6/50\n",
            "4/4 [==============================] - 0s 77ms/step - auc: 0.8471 - loss: 1.4508 - val_auc: 0.8586 - val_loss: 2.0830\n",
            "Epoch 7/50\n",
            "4/4 [==============================] - 0s 22ms/step - auc: 0.8872 - loss: 1.1246 - val_auc: 0.9166 - val_loss: 0.6726\n",
            "Epoch 8/50\n",
            "4/4 [==============================] - 0s 63ms/step - auc: 0.8813 - loss: 1.3617 - val_auc: 0.9524 - val_loss: 0.5305\n",
            "Epoch 9/50\n",
            "4/4 [==============================] - 0s 27ms/step - auc: 0.9109 - loss: 0.7987 - val_auc: 0.8914 - val_loss: 1.0406\n",
            "Epoch 10/50\n",
            "4/4 [==============================] - 0s 24ms/step - auc: 0.9159 - loss: 0.7119 - val_auc: 0.9662 - val_loss: 0.4431\n",
            "Epoch 11/50\n",
            "4/4 [==============================] - 0s 23ms/step - auc: 0.9526 - loss: 0.5543 - val_auc: 0.9688 - val_loss: 0.2542\n",
            "Epoch 12/50\n",
            "4/4 [==============================] - 0s 25ms/step - auc: 0.9608 - loss: 0.3403 - val_auc: 0.9705 - val_loss: 0.2125\n",
            "Epoch 13/50\n",
            "4/4 [==============================] - 0s 34ms/step - auc: 0.9597 - loss: 0.3005 - val_auc: 0.9772 - val_loss: 0.2781\n",
            "Epoch 14/50\n",
            "4/4 [==============================] - 0s 61ms/step - auc: 0.9645 - loss: 0.2670 - val_auc: 0.9877 - val_loss: 0.2180\n",
            "Epoch 15/50\n",
            "4/4 [==============================] - 0s 28ms/step - auc: 0.9752 - loss: 0.2370 - val_auc: 0.9735 - val_loss: 0.3112\n",
            "Epoch 16/50\n",
            "4/4 [==============================] - 0s 36ms/step - auc: 0.9689 - loss: 0.2552 - val_auc: 0.9847 - val_loss: 0.2179\n",
            "Epoch 17/50\n",
            "4/4 [==============================] - 0s 23ms/step - auc: 0.9713 - loss: 0.2336 - val_auc: 0.9789 - val_loss: 0.2546\n",
            "Epoch 18/50\n",
            "4/4 [==============================] - 0s 23ms/step - auc: 0.9784 - loss: 0.1994 - val_auc: 0.9843 - val_loss: 0.2232\n",
            "Epoch 19/50\n",
            "4/4 [==============================] - 0s 48ms/step - auc: 0.9676 - loss: 0.2413 - val_auc: 0.9780 - val_loss: 0.2519\n",
            "Epoch 20/50\n",
            "4/4 [==============================] - 0s 30ms/step - auc: 0.9779 - loss: 0.2202 - val_auc: 0.9847 - val_loss: 0.2593\n",
            "Epoch 21/50\n",
            "4/4 [==============================] - 0s 23ms/step - auc: 0.9662 - loss: 0.2801 - val_auc: 0.9780 - val_loss: 0.2714\n",
            "Epoch 22/50\n",
            "4/4 [==============================] - 0s 25ms/step - auc: 0.9715 - loss: 0.2806 - val_auc: 0.9729 - val_loss: 0.3314\n",
            "Epoch 23/50\n",
            "4/4 [==============================] - 0s 22ms/step - auc: 0.9416 - loss: 0.3841 - val_auc: 0.9799 - val_loss: 0.2446\n",
            "Epoch 24/50\n",
            "4/4 [==============================] - 0s 25ms/step - auc: 0.9811 - loss: 0.2446 - val_auc: 0.9845 - val_loss: 0.2417\n",
            "Epoch 25/50\n",
            "4/4 [==============================] - 0s 60ms/step - auc: 0.9506 - loss: 0.3316 - val_auc: 0.9677 - val_loss: 0.3466\n",
            "Epoch 26/50\n",
            "4/4 [==============================] - 0s 45ms/step - auc: 0.9770 - loss: 0.2473 - val_auc: 0.9851 - val_loss: 0.2156\n",
            "Epoch 27/50\n",
            "4/4 [==============================] - 0s 28ms/step - auc: 0.9673 - loss: 0.2697 - val_auc: 0.9799 - val_loss: 0.2716\n",
            "Epoch 28/50\n",
            "4/4 [==============================] - 0s 26ms/step - auc: 0.9782 - loss: 0.2089 - val_auc: 0.9856 - val_loss: 0.1831\n",
            "Epoch 29/50\n",
            "4/4 [==============================] - 0s 25ms/step - auc: 0.9758 - loss: 0.2002 - val_auc: 0.9808 - val_loss: 0.2390\n",
            "Epoch 30/50\n",
            "4/4 [==============================] - 0s 36ms/step - auc: 0.9758 - loss: 0.2112 - val_auc: 0.9860 - val_loss: 0.1838\n",
            "Epoch 31/50\n",
            "4/4 [==============================] - 0s 41ms/step - auc: 0.9707 - loss: 0.2045 - val_auc: 0.9802 - val_loss: 0.1858\n",
            "Epoch 32/50\n",
            "4/4 [==============================] - 0s 23ms/step - auc: 0.9797 - loss: 0.1778 - val_auc: 0.9856 - val_loss: 0.1789\n",
            "Epoch 33/50\n",
            "4/4 [==============================] - 0s 20ms/step - auc: 0.9746 - loss: 0.1945 - val_auc: 0.9799 - val_loss: 0.2106\n",
            "Epoch 34/50\n",
            "4/4 [==============================] - 0s 31ms/step - auc: 0.9811 - loss: 0.1671 - val_auc: 0.9851 - val_loss: 0.1893\n",
            "Epoch 35/50\n",
            "4/4 [==============================] - 0s 23ms/step - auc: 0.9757 - loss: 0.1945 - val_auc: 0.9797 - val_loss: 0.2490\n",
            "Epoch 36/50\n",
            "4/4 [==============================] - 0s 36ms/step - auc: 0.9799 - loss: 0.1731 - val_auc: 0.9849 - val_loss: 0.2067\n",
            "Epoch 37/50\n",
            "4/4 [==============================] - 0s 42ms/step - auc: 0.9735 - loss: 0.2039 - val_auc: 0.9791 - val_loss: 0.2098\n",
            "Epoch 38/50\n",
            "4/4 [==============================] - 0s 21ms/step - auc: 0.9746 - loss: 0.1875 - val_auc: 0.9791 - val_loss: 0.2167\n",
            "Epoch 39/50\n",
            "4/4 [==============================] - 0s 25ms/step - auc: 0.9766 - loss: 0.1978 - val_auc: 0.9854 - val_loss: 0.2152\n",
            "Epoch 40/50\n",
            "4/4 [==============================] - 0s 23ms/step - auc: 0.9771 - loss: 0.2016 - val_auc: 0.9793 - val_loss: 0.2021\n",
            "Epoch 41/50\n",
            "4/4 [==============================] - 0s 18ms/step - auc: 0.9767 - loss: 0.1852 - val_auc: 0.9799 - val_loss: 0.2005\n",
            "Epoch 42/50\n",
            "4/4 [==============================] - 0s 41ms/step - auc: 0.9792 - loss: 0.1758 - val_auc: 0.9860 - val_loss: 0.1839\n",
            "Epoch 43/50\n",
            "4/4 [==============================] - 0s 53ms/step - auc: 0.9829 - loss: 0.1610 - val_auc: 0.9866 - val_loss: 0.1758\n",
            "Epoch 44/50\n",
            "4/4 [==============================] - 0s 20ms/step - auc: 0.9814 - loss: 0.1577 - val_auc: 0.9875 - val_loss: 0.1943\n",
            "Epoch 45/50\n",
            "4/4 [==============================] - 0s 22ms/step - auc: 0.9844 - loss: 0.1585 - val_auc: 0.9866 - val_loss: 0.1731\n",
            "Epoch 46/50\n",
            "4/4 [==============================] - 0s 22ms/step - auc: 0.9731 - loss: 0.1839 - val_auc: 0.9815 - val_loss: 0.2555\n",
            "Epoch 47/50\n",
            "4/4 [==============================] - 0s 28ms/step - auc: 0.9726 - loss: 0.1948 - val_auc: 0.9875 - val_loss: 0.1761\n",
            "Epoch 48/50\n",
            "4/4 [==============================] - 0s 21ms/step - auc: 0.9790 - loss: 0.1991 - val_auc: 0.9868 - val_loss: 0.2339\n",
            "Epoch 49/50\n",
            "4/4 [==============================] - 0s 24ms/step - auc: 0.9668 - loss: 0.2227 - val_auc: 0.9823 - val_loss: 0.3193\n",
            "Epoch 50/50\n",
            "4/4 [==============================] - 0s 31ms/step - auc: 0.9500 - loss: 0.2760 - val_auc: 0.9823 - val_loss: 0.2350\n"
          ],
          "name": "stdout"
        }
      ]
    },
    {
      "cell_type": "markdown",
      "metadata": {
        "id": "XXEc-wWyXjrX"
      },
      "source": [
        "Também podemos ver o histórico do treinamento plotando gráficos de linha:"
      ]
    },
    {
      "cell_type": "code",
      "metadata": {
        "id": "Emgys7aFXjrX",
        "outputId": "b058403a-a9d0-4288-97f9-9a1c72093fe9"
      },
      "source": [
        "#Função de perda\n",
        "plt.title('Função de perda')\n",
        "plt.xlabel('Epoch')\n",
        "plt.ylabel('Cross Entropy')\n",
        "plt.plot(history.history['loss'], label='train')\n",
        "plt.plot(history.history['val_loss'], label='val')\n",
        "plt.legend()\n",
        "plt.show()\n",
        "\n",
        "#AUC\n",
        "plt.title('AUC (ROC)')\n",
        "plt.xlabel('Epoch')\n",
        "plt.ylabel('AUC')\n",
        "plt.plot(history.history['auc'], label='train')\n",
        "plt.plot(history.history['val_auc'], label='val')\n",
        "plt.legend()\n",
        "plt.show()"
      ],
      "execution_count": null,
      "outputs": [
        {
          "output_type": "display_data",
          "data": {
            "image/png": "[encoded data removed]",
            "text/plain": [
              "<Figure size 432x288 with 1 Axes>"
            ]
          },
          "metadata": {
            "tags": []
          }
        },
        {
          "output_type": "display_data",
          "data": {
            "image/png": "[encoded data removed]",
            "text/plain": [
              "<Figure size 432x288 with 1 Axes>"
            ]
          },
          "metadata": {
            "tags": []
          }
        }
      ]
    },
    {
      "cell_type": "markdown",
      "metadata": {
        "id": "y31wt0vOXjrb"
      },
      "source": [
        "### Um segundo modelo (*tuned model*) - utilizando regularização e um holdout set para a escolha de valores para os hiperparâmetros"
      ]
    },
    {
      "cell_type": "markdown",
      "metadata": {
        "id": "Pb7zSm7SXjrc"
      },
      "source": [
        "As estratégias de regularização que utilizaremos neste exemplo são de dois tipos: (i) restrições para valores dos pesos da rede e (ii) early stopping. Referente à primeira estratégia, utilizaremos uma mistura das penalizações dos tipos $l1$ e $l2$ ('Elastic Net'), logo teremos dois hiperparâmetros para 'tunar'. Em relação ao early stopping, vamos fixar que se a métrica AUC (ROC) não melhorar em dez epochs seguidas no conjunto de validação (de acordo com o nível do início das 10 epochs), o treinamento é interrompido - nesse caso não teremos um hiperparâmetro a ser 'tunado' (além do número de epochs).\n",
        "\n",
        "Além dos hiperparâmetros das estratégias de regularização, temos que escolher o número de neurônios nas duas camadas ocultas, então temos mais dois hiperparâmetros para serem 'tunados'.\n",
        "\n",
        "Para fazer a escolha dos melhores valores, utilizaremos a abordagem da busca aleatória (Random Search). Vamos então criar uma tabelinha (Pandas DataFrame) com *n_iter* combinações aleatórias para os hiperparâmetros (tirando o número de epochs) e que testaremos a seguir:"
      ]
    },
    {
      "cell_type": "code",
      "metadata": {
        "id": "uMTUBmvAXjre",
        "outputId": "2c03dd3c-4cad-4658-e1cf-2428f3b82ede"
      },
      "source": [
        "n_iter=100\n",
        "\n",
        "neurons=[]\n",
        "reg=[]\n",
        "\n",
        "#Sorteando valores\n",
        "for i in range(n_iter):\n",
        "    h1=random.randrange(25, 100, 1)\n",
        "    h2=random.randrange(20, h1, 1)\n",
        "    neurons.append((h1, h2))\n",
        "    \n",
        "    l1=random.choice([0, 1e-15, 1e-10, 1e-5, 1e-3, 1e-2, 1e-1])\n",
        "    l2=random.choice([0, 1e-15, 1e-10, 1e-5, 1e-3, 1e-2, 1e-1])\n",
        "    reg.append((l1, l2))\n",
        "    \n",
        "#DataFrame\n",
        "hyper = {'neurons': neurons, 'reg': reg, 'epochs': n_iter*[None], 'auc': n_iter*[None]}\n",
        "hyper = pd.DataFrame(hyper)\n",
        "hyper = hyper[['neurons', 'reg', 'epochs', 'auc']]\n",
        "\n",
        "hyper.head()"
      ],
      "execution_count": null,
      "outputs": [
        {
          "output_type": "execute_result",
          "data": {
            "text/html": [
              "<div>\n",
              "<style scoped>\n",
              "    .dataframe tbody tr th:only-of-type {\n",
              "        vertical-align: middle;\n",
              "    }\n",
              "\n",
              "    .dataframe tbody tr th {\n",
              "        vertical-align: top;\n",
              "    }\n",
              "\n",
              "    .dataframe thead th {\n",
              "        text-align: right;\n",
              "    }\n",
              "</style>\n",
              "<table border=\"1\" class=\"dataframe\">\n",
              "  <thead>\n",
              "    <tr style=\"text-align: right;\">\n",
              "      <th></th>\n",
              "      <th>neurons</th>\n",
              "      <th>reg</th>\n",
              "      <th>epochs</th>\n",
              "      <th>auc</th>\n",
              "    </tr>\n",
              "  </thead>\n",
              "  <tbody>\n",
              "    <tr>\n",
              "      <th>0</th>\n",
              "      <td>(39, 20)</td>\n",
              "      <td>(0.01, 1e-10)</td>\n",
              "      <td>None</td>\n",
              "      <td>None</td>\n",
              "    </tr>\n",
              "    <tr>\n",
              "      <th>1</th>\n",
              "      <td>(56, 34)</td>\n",
              "      <td>(1e-15, 0.01)</td>\n",
              "      <td>None</td>\n",
              "      <td>None</td>\n",
              "    </tr>\n",
              "    <tr>\n",
              "      <th>2</th>\n",
              "      <td>(38, 37)</td>\n",
              "      <td>(0, 0.001)</td>\n",
              "      <td>None</td>\n",
              "      <td>None</td>\n",
              "    </tr>\n",
              "    <tr>\n",
              "      <th>3</th>\n",
              "      <td>(79, 22)</td>\n",
              "      <td>(0, 0)</td>\n",
              "      <td>None</td>\n",
              "      <td>None</td>\n",
              "    </tr>\n",
              "    <tr>\n",
              "      <th>4</th>\n",
              "      <td>(52, 34)</td>\n",
              "      <td>(0.001, 0.001)</td>\n",
              "      <td>None</td>\n",
              "      <td>None</td>\n",
              "    </tr>\n",
              "  </tbody>\n",
              "</table>\n",
              "</div>"
            ],
            "text/plain": [
              "    neurons             reg epochs   auc\n",
              "0  (39, 20)   (0.01, 1e-10)   None  None\n",
              "1  (56, 34)   (1e-15, 0.01)   None  None\n",
              "2  (38, 37)      (0, 0.001)   None  None\n",
              "3  (79, 22)          (0, 0)   None  None\n",
              "4  (52, 34)  (0.001, 0.001)   None  None"
            ]
          },
          "metadata": {
            "tags": []
          },
          "execution_count": 11
        }
      ]
    },
    {
      "cell_type": "markdown",
      "metadata": {
        "id": "sUEnI1dTXjrj"
      },
      "source": [
        "Cada elemento da coluna 'neurons' é uma tupla, que na primeira entrada nos dá o número de neurônios na primeira camada oculta e na segunda entrada nos dá o número de neurônios na segunda camada oculta. Por outro lado, cada elemento da coluna 'reg' é uma tupla, que na primeira entrada nos dá o valor referente à regularização $l1$ e na segunda entrada nos dá o valor referente à regularização $l2$.\n",
        "\n",
        "Na coluna 'epochs' vamos guardar o número de epochs realizados (por conta do early stopping) e na coluna 'auc' vamos guardar a AUC (ROC) estimada no conjunto de validação.\n",
        "\n",
        "Abaixo vamos criar uma função que instancia modelos de redes neurais do Keras prontos para serem treinados, o que facilitará na hora de fazer o 'tuning' dos hiperparâmetros:"
      ]
    },
    {
      "cell_type": "code",
      "metadata": {
        "id": "LACZjGAjXjrk"
      },
      "source": [
        "def create_model(neurons=(10,10), reg=(.001, .001)):\n",
        "    \n",
        "    ops.reset_default_graph() #é importante resetar os grafos das redes neurais já criadas para não tornam o processo muito lento \n",
        "    \n",
        "    #Criando modelo\n",
        "    model = Sequential()\n",
        "    model.add(Dense(neurons[0], input_shape=(n_features,), activation='relu', \n",
        "                    kernel_regularizer=regularizers.l1_l2(l1=reg[0], l2=reg[1]), \n",
        "                    bias_regularizer=regularizers.l1_l2(l1=reg[0], l2=reg[1])))\n",
        "    model.add(Dense(neurons[1], activation='relu', \n",
        "                    kernel_regularizer=regularizers.l1_l2(l1=reg[0], l2=reg[1]), \n",
        "                    bias_regularizer=regularizers.l1_l2(l1=reg[0], l2=reg[1])))\n",
        "    model.add(Dense(1, activation='sigmoid', \n",
        "                    kernel_regularizer=regularizers.l1_l2(l1=reg[0], l2=reg[1]), \n",
        "                    bias_regularizer=regularizers.l1_l2(l1=reg[0], l2=reg[1])))\n",
        "    \n",
        "    #Compilando\n",
        "    model.compile(optimizer='adam', loss='binary_crossentropy', metrics=[tf.keras.metrics.AUC()])\n",
        "    return model"
      ],
      "execution_count": null,
      "outputs": []
    },
    {
      "cell_type": "markdown",
      "metadata": {
        "id": "cKUsQiZKXjro"
      },
      "source": [
        "Para cada linha do dataframe 'hyper', vamos treinar um modelo e avaliá-lo no conjunto de validação (holdout set):"
      ]
    },
    {
      "cell_type": "code",
      "metadata": {
        "id": "ymv1AvnBXjro",
        "outputId": "05381034-2a13-4d4e-b787-76158d9d8157"
      },
      "source": [
        "%%time\n",
        "for j in range(n_iter):\n",
        "    model = create_model(hyper.loc[j,'neurons'], hyper.loc[j,'reg'])\n",
        "    \n",
        "    es = EarlyStopping(monitor='val_auc', patience=10)\n",
        "    \n",
        "    history = model.fit(X_train, y_train, \n",
        "                        validation_split=.25,\n",
        "                        epochs=50, \n",
        "                        batch_size=96, \n",
        "                        shuffle=True, \n",
        "                        verbose=False,\n",
        "                        callbacks=[es]) \n",
        "    \n",
        "    hyper.loc[j,'epochs'] = len(history.history['val_auc'])\n",
        "    hyper.loc[j,'auc'] = history.history['val_auc'][-1]\n",
        "\n",
        "    #Progresso\n",
        "    if (j+1)%int(n_iter/10)==0: print('{:.2f}% concluded.'.format(100*(j+1)/n_iter))\n",
        "    else: pass"
      ],
      "execution_count": null,
      "outputs": [
        {
          "output_type": "stream",
          "text": [
            "10.00% concluded.\n",
            "20.00% concluded.\n",
            "30.00% concluded.\n",
            "40.00% concluded.\n",
            "50.00% concluded.\n",
            "60.00% concluded.\n",
            "70.00% concluded.\n",
            "80.00% concluded.\n",
            "90.00% concluded.\n",
            "100.00% concluded.\n",
            "Wall time: 4min 12s\n"
          ],
          "name": "stdout"
        }
      ]
    },
    {
      "cell_type": "markdown",
      "metadata": {
        "id": "LNfk4VgyXjrs"
      },
      "source": [
        "Vamos visualizar as 10 melhores combinações de valores para os hiperparâmetros:"
      ]
    },
    {
      "cell_type": "code",
      "metadata": {
        "id": "yANiLy5NXjrs",
        "outputId": "1241dbef-75e9-4f44-d9a1-347fc308337c"
      },
      "source": [
        "hyper = hyper.iloc[np.argsort(hyper.loc[:,'auc']),:]\n",
        "hyper.tail(10)"
      ],
      "execution_count": null,
      "outputs": [
        {
          "output_type": "execute_result",
          "data": {
            "text/html": [
              "<div>\n",
              "<style scoped>\n",
              "    .dataframe tbody tr th:only-of-type {\n",
              "        vertical-align: middle;\n",
              "    }\n",
              "\n",
              "    .dataframe tbody tr th {\n",
              "        vertical-align: top;\n",
              "    }\n",
              "\n",
              "    .dataframe thead th {\n",
              "        text-align: right;\n",
              "    }\n",
              "</style>\n",
              "<table border=\"1\" class=\"dataframe\">\n",
              "  <thead>\n",
              "    <tr style=\"text-align: right;\">\n",
              "      <th></th>\n",
              "      <th>neurons</th>\n",
              "      <th>reg</th>\n",
              "      <th>epochs</th>\n",
              "      <th>auc</th>\n",
              "    </tr>\n",
              "  </thead>\n",
              "  <tbody>\n",
              "    <tr>\n",
              "      <th>44</th>\n",
              "      <td>(50, 24)</td>\n",
              "      <td>(1e-10, 0.1)</td>\n",
              "      <td>11</td>\n",
              "      <td>0.971642</td>\n",
              "    </tr>\n",
              "    <tr>\n",
              "      <th>67</th>\n",
              "      <td>(37, 21)</td>\n",
              "      <td>(1e-05, 0.01)</td>\n",
              "      <td>11</td>\n",
              "      <td>0.971828</td>\n",
              "    </tr>\n",
              "    <tr>\n",
              "      <th>79</th>\n",
              "      <td>(96, 82)</td>\n",
              "      <td>(1e-15, 1e-15)</td>\n",
              "      <td>11</td>\n",
              "      <td>0.973694</td>\n",
              "    </tr>\n",
              "    <tr>\n",
              "      <th>25</th>\n",
              "      <td>(32, 23)</td>\n",
              "      <td>(0.1, 0)</td>\n",
              "      <td>11</td>\n",
              "      <td>0.974627</td>\n",
              "    </tr>\n",
              "    <tr>\n",
              "      <th>75</th>\n",
              "      <td>(86, 47)</td>\n",
              "      <td>(0.1, 1e-05)</td>\n",
              "      <td>11</td>\n",
              "      <td>0.977425</td>\n",
              "    </tr>\n",
              "    <tr>\n",
              "      <th>98</th>\n",
              "      <td>(92, 21)</td>\n",
              "      <td>(0.01, 0.1)</td>\n",
              "      <td>11</td>\n",
              "      <td>0.978172</td>\n",
              "    </tr>\n",
              "    <tr>\n",
              "      <th>51</th>\n",
              "      <td>(41, 24)</td>\n",
              "      <td>(0.01, 1e-05)</td>\n",
              "      <td>11</td>\n",
              "      <td>0.979851</td>\n",
              "    </tr>\n",
              "    <tr>\n",
              "      <th>33</th>\n",
              "      <td>(88, 31)</td>\n",
              "      <td>(0.1, 0)</td>\n",
              "      <td>11</td>\n",
              "      <td>0.981716</td>\n",
              "    </tr>\n",
              "    <tr>\n",
              "      <th>29</th>\n",
              "      <td>(43, 28)</td>\n",
              "      <td>(1e-15, 1e-15)</td>\n",
              "      <td>12</td>\n",
              "      <td>0.984515</td>\n",
              "    </tr>\n",
              "    <tr>\n",
              "      <th>30</th>\n",
              "      <td>(96, 88)</td>\n",
              "      <td>(1e-10, 0.01)</td>\n",
              "      <td>11</td>\n",
              "      <td>0.985261</td>\n",
              "    </tr>\n",
              "  </tbody>\n",
              "</table>\n",
              "</div>"
            ],
            "text/plain": [
              "     neurons             reg epochs       auc\n",
              "44  (50, 24)    (1e-10, 0.1)     11  0.971642\n",
              "67  (37, 21)   (1e-05, 0.01)     11  0.971828\n",
              "79  (96, 82)  (1e-15, 1e-15)     11  0.973694\n",
              "25  (32, 23)        (0.1, 0)     11  0.974627\n",
              "75  (86, 47)    (0.1, 1e-05)     11  0.977425\n",
              "98  (92, 21)     (0.01, 0.1)     11  0.978172\n",
              "51  (41, 24)   (0.01, 1e-05)     11  0.979851\n",
              "33  (88, 31)        (0.1, 0)     11  0.981716\n",
              "29  (43, 28)  (1e-15, 1e-15)     12  0.984515\n",
              "30  (96, 88)   (1e-10, 0.01)     11  0.985261"
            ]
          },
          "metadata": {
            "tags": []
          },
          "execution_count": 14
        }
      ]
    },
    {
      "cell_type": "markdown",
      "metadata": {
        "id": "z0SWZ7LwXjrz"
      },
      "source": [
        "Vamos treinar nosso modelo final com os melhores valores para os hiperparâmetros e o número ótimo de epochs:"
      ]
    },
    {
      "cell_type": "code",
      "metadata": {
        "id": "Wf3kMxOiXjrz",
        "outputId": "4160eb58-9960-4206-903c-cd145ffc4ff6"
      },
      "source": [
        "#Melhores valores\n",
        "neurons = hyper.iloc[-1,0]\n",
        "reg = hyper.iloc[-1,1]\n",
        "epochs = hyper.iloc[-1,2]\n",
        "\n",
        "#Criando modelo\n",
        "model_tuned = create_model(neurons, reg)\n",
        "\n",
        "#Treinando modelo\n",
        "model_tuned.fit(X_train, y_train, \n",
        "                validation_split=0,\n",
        "                epochs=epochs, \n",
        "                batch_size=96, \n",
        "                shuffle=True, \n",
        "                verbose=False) "
      ],
      "execution_count": null,
      "outputs": [
        {
          "output_type": "execute_result",
          "data": {
            "text/plain": [
              "<tensorflow.python.keras.callbacks.History at 0x25fe1bd26d8>"
            ]
          },
          "metadata": {
            "tags": []
          },
          "execution_count": 15
        }
      ]
    },
    {
      "cell_type": "markdown",
      "metadata": {
        "id": "Jjk9XPSuXjr3"
      },
      "source": [
        "Comparando os dois modelos no conjunto de teste:"
      ]
    },
    {
      "cell_type": "code",
      "metadata": {
        "id": "9UScMAvBXjr3",
        "outputId": "8b8afc86-3a71-440e-9ca8-f0cb89ae6d94"
      },
      "source": [
        "print('AUCs --- (i) MLP (Naive): {:.4f} --- (ii) MLP (Tuned): {:.4f}'.format(roc_auc_score(y_test, model.predict(X_test).squeeze()),\n",
        "                                                                             roc_auc_score(y_test, model_tuned.predict(X_test).squeeze())))"
      ],
      "execution_count": null,
      "outputs": [
        {
          "output_type": "stream",
          "text": [
            "AUCs --- (i) MLP (Naive): 0.9220 --- (ii) MLP (Tuned): 0.9463\n"
          ],
          "name": "stdout"
        }
      ]
    }
  ]
}